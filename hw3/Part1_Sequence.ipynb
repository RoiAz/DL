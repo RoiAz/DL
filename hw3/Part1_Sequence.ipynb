{
 "cells": [
  {
   "cell_type": "markdown",
   "metadata": {},
   "source": [
    "$$\n",
    "\\newcommand{\\mat}[1]{\\boldsymbol {#1}}\n",
    "\\newcommand{\\mattr}[1]{\\boldsymbol {#1}^\\top}\n",
    "\\newcommand{\\matinv}[1]{\\boldsymbol {#1}^{-1}}\n",
    "\\newcommand{\\vec}[1]{\\boldsymbol {#1}}\n",
    "\\newcommand{\\vectr}[1]{\\boldsymbol {#1}^\\top}\n",
    "\\newcommand{\\rvar}[1]{\\mathrm {#1}}\n",
    "\\newcommand{\\rvec}[1]{\\boldsymbol{\\mathrm{#1}}}\n",
    "\\newcommand{\\diag}{\\mathop{\\mathrm {diag}}}\n",
    "\\newcommand{\\set}[1]{\\mathbb {#1}}\n",
    "\\newcommand{\\norm}[1]{\\left\\lVert#1\\right\\rVert}\n",
    "\\newcommand{\\pderiv}[2]{\\frac{\\partial #1}{\\partial #2}}\n",
    "\\newcommand{\\bb}[1]{\\boldsymbol{#1}}\n",
    "$$\n",
    "# Part 1: Sequence Models\n",
    "<a id=part1></a>"
   ]
  },
  {
   "cell_type": "markdown",
   "metadata": {},
   "source": [
    "In this part we will learn about working with text sequences using recurrent neural networks.\n",
    "We'll go from a raw text file all the way to a fully trained GRU-RNN model and generate works of art!"
   ]
  },
  {
   "cell_type": "code",
   "execution_count": 1,
   "metadata": {},
   "outputs": [],
   "source": [
    "import unittest\n",
    "import os\n",
    "import sys\n",
    "import pathlib\n",
    "import urllib\n",
    "import shutil\n",
    "import re\n",
    "\n",
    "import numpy as np\n",
    "import torch\n",
    "import matplotlib.pyplot as plt\n",
    "\n",
    "%load_ext autoreload\n",
    "%autoreload 2"
   ]
  },
  {
   "cell_type": "code",
   "execution_count": 2,
   "metadata": {},
   "outputs": [
    {
     "name": "stdout",
     "output_type": "stream",
     "text": [
      "Using device: cuda\n"
     ]
    }
   ],
   "source": [
    "test = unittest.TestCase()\n",
    "plt.rcParams.update({'font.size': 12})\n",
    "device = torch.device('cuda' if torch.cuda.is_available() else 'cpu')\n",
    "print('Using device:', device)"
   ]
  },
  {
   "cell_type": "markdown",
   "metadata": {},
   "source": [
    "## Text generation with a char-level RNN\n",
    "<a id=part1_1></a>"
   ]
  },
  {
   "cell_type": "markdown",
   "metadata": {},
   "source": [
    "### Obtaining the corpus\n",
    "<a id=part1_2></a>"
   ]
  },
  {
   "cell_type": "markdown",
   "metadata": {},
   "source": [
    "Let's begin by downloading a corpus containing all the works of William Shakespeare.\n",
    "Since he was very prolific, this corpus is fairly large and will provide us with enough data for\n",
    "obtaining impressive results."
   ]
  },
  {
   "cell_type": "code",
   "execution_count": 3,
   "metadata": {},
   "outputs": [
    {
     "name": "stdout",
     "output_type": "stream",
     "text": [
      "Corpus file /home/topaz.aharon/.pytorch-datasets/shakespeare.txt exists, skipping download.\n"
     ]
    }
   ],
   "source": [
    "CORPUS_URL = 'https://github.com/cedricdeboom/character-level-rnn-datasets/raw/master/datasets/shakespeare.txt'\n",
    "DATA_DIR = pathlib.Path.home().joinpath('.pytorch-datasets')\n",
    "\n",
    "def download_corpus(out_path=DATA_DIR, url=CORPUS_URL, force=False):\n",
    "    pathlib.Path(out_path).mkdir(exist_ok=True)\n",
    "    out_filename = os.path.join(out_path, os.path.basename(url))\n",
    "    \n",
    "    if os.path.isfile(out_filename) and not force:\n",
    "        print(f'Corpus file {out_filename} exists, skipping download.')\n",
    "    else:\n",
    "        print(f'Downloading {url}...')\n",
    "        with urllib.request.urlopen(url) as response, open(out_filename, 'wb') as out_file:\n",
    "            shutil.copyfileobj(response, out_file)\n",
    "        print(f'Saved to {out_filename}.')\n",
    "    return out_filename\n",
    "    \n",
    "corpus_path = download_corpus()"
   ]
  },
  {
   "cell_type": "markdown",
   "metadata": {},
   "source": [
    "Load the text into memory and print a snippet:"
   ]
  },
  {
   "cell_type": "code",
   "execution_count": 4,
   "metadata": {},
   "outputs": [
    {
     "name": "stdout",
     "output_type": "stream",
     "text": [
      "Corpus length: 6347703 chars\n",
      "ALLS WELL THAT ENDS WELL\n",
      "\n",
      "by William Shakespeare\n",
      "\n",
      "Dramatis Personae\n",
      "\n",
      "  KING OF FRANCE\n",
      "  THE DUKE OF FLORENCE\n",
      "  BERTRAM, Count of Rousillon\n",
      "  LAFEU, an old lord\n",
      "  PAROLLES, a follower of Bertram\n",
      "  TWO FRENCH LORDS, serving with Bertram\n",
      "\n",
      "  STEWARD, Servant to the Countess of Rousillon\n",
      "  LAVACHE, a clown and Servant to the Countess of Rousillon\n",
      "  A PAGE, Servant to the Countess of Rousillon\n",
      "\n",
      "  COUNTESS OF ROUSILLON, mother to Bertram\n",
      "  HELENA, a gentlewoman protected by the Countess\n",
      "  A WIDOW OF FLORENCE.\n",
      "  DIANA, daughter to the Widow\n",
      "\n",
      "  VIOLENTA, neighbour and friend to the Widow\n",
      "  MARIANA, neighbour and friend to the Widow\n",
      "\n",
      "  Lords, Officers, Soldiers, etc., French and Florentine  \n",
      "\n",
      "SCENE:\n",
      "Rousillon; Paris; Florence; Marseilles\n",
      "\n",
      "ACT I. SCENE 1.\n",
      "Rousillon. The COUNT'S palace\n",
      "\n",
      "Enter BERTRAM, the COUNTESS OF ROUSILLON, HELENA, and LAFEU, all in black\n",
      "\n",
      "  COUNTESS. In delivering my son from me, I bury a second husband.\n",
      "  BERTRAM. And I in going, madam, weep o'er my father's death anew;\n",
      "    but I must attend his Majesty's command, to whom I am now in\n",
      "    ward, evermore in subjection.\n",
      "  LAFEU. You shall find of the King a husband, madam; you, sir, a\n",
      "    father. He that so generally is at all times good must of\n",
      "    \n"
     ]
    }
   ],
   "source": [
    "with open(corpus_path, 'r', encoding='utf-8') as f:\n",
    "    corpus = f.read()\n",
    "\n",
    "print(f'Corpus length: {len(corpus)} chars')\n",
    "print(corpus[7:1234])"
   ]
  },
  {
   "cell_type": "markdown",
   "metadata": {},
   "source": [
    "### Data Preprocessing\n",
    "<a id=part1_3></a>"
   ]
  },
  {
   "cell_type": "markdown",
   "metadata": {},
   "source": [
    "The first thing we'll need is to map from each unique character in the corpus to an index that will represent it in our learning process.\n",
    "\n",
    "**TODO**: Implement the `char_maps()` function in the `hw3/charnn.py` module."
   ]
  },
  {
   "cell_type": "code",
   "execution_count": 5,
   "metadata": {},
   "outputs": [
    {
     "name": "stdout",
     "output_type": "stream",
     "text": [
      "{'\\n': 0, ' ': 1, '!': 2, '\"': 3, '$': 4, '&': 5, \"'\": 6, '(': 7, ')': 8, ',': 9, '-': 10, '.': 11, '0': 12, '1': 13, '2': 14, '3': 15, '4': 16, '5': 17, '6': 18, '7': 19, '8': 20, '9': 21, ':': 22, ';': 23, '<': 24, '?': 25, 'A': 26, 'B': 27, 'C': 28, 'D': 29, 'E': 30, 'F': 31, 'G': 32, 'H': 33, 'I': 34, 'J': 35, 'K': 36, 'L': 37, 'M': 38, 'N': 39, 'O': 40, 'P': 41, 'Q': 42, 'R': 43, 'S': 44, 'T': 45, 'U': 46, 'V': 47, 'W': 48, 'X': 49, 'Y': 50, 'Z': 51, '[': 52, ']': 53, '_': 54, 'a': 55, 'b': 56, 'c': 57, 'd': 58, 'e': 59, 'f': 60, 'g': 61, 'h': 62, 'i': 63, 'j': 64, 'k': 65, 'l': 66, 'm': 67, 'n': 68, 'o': 69, 'p': 70, 'q': 71, 'r': 72, 's': 73, 't': 74, 'u': 75, 'v': 76, 'w': 77, 'x': 78, 'y': 79, 'z': 80, '}': 81, '\\ufeff': 82}\n"
     ]
    }
   ],
   "source": [
    "import hw3.charnn as charnn\n",
    "\n",
    "char_to_idx, idx_to_char = charnn.char_maps(corpus)\n",
    "print(char_to_idx)\n",
    "\n",
    "test.assertEqual(len(char_to_idx), len(idx_to_char))\n",
    "test.assertSequenceEqual(list(char_to_idx.keys()), list(idx_to_char.values()))\n",
    "test.assertSequenceEqual(list(char_to_idx.values()), list(idx_to_char.keys()))"
   ]
  },
  {
   "cell_type": "markdown",
   "metadata": {},
   "source": [
    "Seems we have some strange characters in the corpus that are very rare and are probably due to mistakes.\n",
    "To reduce the length of each tensor we'll need to later represent our chars, it's best to remove them.\n",
    "\n",
    "**TODO**: Implement the `remove_chars()` function in the `hw3/charnn.py` module."
   ]
  },
  {
   "cell_type": "code",
   "execution_count": 6,
   "metadata": {},
   "outputs": [
    {
     "name": "stdout",
     "output_type": "stream",
     "text": [
      "Removed 34 chars\n"
     ]
    }
   ],
   "source": [
    "corpus, n_removed = charnn.remove_chars(corpus, ['}','$','_','<','\\ufeff'])\n",
    "print(f'Removed {n_removed} chars')\n",
    "\n",
    "# After removing the chars, re-create the mappings\n",
    "char_to_idx, idx_to_char = charnn.char_maps(corpus)"
   ]
  },
  {
   "cell_type": "markdown",
   "metadata": {},
   "source": [
    "The next thing we need is an **embedding** of the chracters.\n",
    "An embedding is a representation of each token from the sequence as a tensor.\n",
    "For a char-level RNN, our tokens will be chars and we can thus use the simplest possible embedding: encode each char as a **one-hot** tensor. In other words, each char will be represented\n",
    "as a tensor whos length is the total number of unique chars (`V`) which contains all zeros except at the index\n",
    "corresponding to that specific char.\n",
    "\n",
    "**TODO**: Implement the functions `chars_to_onehot()` and `onehot_to_chars()` in the `hw3/charnn.py` module."
   ]
  },
  {
   "cell_type": "code",
   "execution_count": 7,
   "metadata": {},
   "outputs": [
    {
     "name": "stdout",
     "output_type": "stream",
     "text": [
      "of this, Helena; go to, no more, lest it be \n",
      "tensor([[0, 0, 0, 0, 0, 0, 0, 0, 0, 0, 0, 0, 0, 0, 0, 0, 0, 0, 0, 0, 0, 0, 0, 0,\n",
      "         0, 0, 0, 0, 0, 0, 0, 0, 0, 0, 0, 0, 0, 0, 0, 0, 0, 0, 0, 0, 0, 0, 0, 0,\n",
      "         0, 0, 0, 0, 0, 0, 0, 0, 0, 0, 0, 0, 0, 0, 0, 0, 0, 1, 0, 0, 0, 0, 0, 0,\n",
      "         0, 0, 0, 0, 0],\n",
      "        [0, 0, 0, 0, 0, 0, 0, 0, 0, 0, 0, 0, 0, 0, 0, 0, 0, 0, 0, 0, 0, 0, 0, 0,\n",
      "         0, 0, 0, 0, 0, 0, 0, 0, 0, 0, 0, 0, 0, 0, 0, 0, 0, 0, 0, 0, 0, 0, 0, 0,\n",
      "         0, 0, 0, 0, 0, 0, 0, 0, 1, 0, 0, 0, 0, 0, 0, 0, 0, 0, 0, 0, 0, 0, 0, 0,\n",
      "         0, 0, 0, 0, 0],\n",
      "        [1, 0, 0, 0, 0, 0, 0, 0, 0, 0, 0, 0, 0, 0, 0, 0, 0, 0, 0, 0, 0, 0, 0, 0,\n",
      "         0, 0, 0, 0, 0, 0, 0, 0, 0, 0, 0, 0, 0, 0, 0, 0, 0, 0, 0, 0, 0, 0, 0, 0,\n",
      "         0, 0, 0, 0, 0, 0, 0, 0, 0, 0, 0, 0, 0, 0, 0, 0, 0, 0, 0, 0, 0, 0, 0, 0,\n",
      "         0, 0, 0, 0, 0]], dtype=torch.int8)\n"
     ]
    }
   ],
   "source": [
    "# Wrap the actual embedding functions for calling convenience\n",
    "def embed(text):\n",
    "    return charnn.chars_to_onehot(text, char_to_idx)\n",
    "\n",
    "def unembed(embedding):\n",
    "    return charnn.onehot_to_chars(embedding, idx_to_char)\n",
    "\n",
    "text_snippet = corpus[3104:3148]\n",
    "print(text_snippet)\n",
    "print(embed(text_snippet[0:3]))\n",
    "\n",
    "test.assertEqual(text_snippet, unembed(embed(text_snippet)))\n",
    "test.assertEqual(embed(text_snippet).dtype, torch.int8)"
   ]
  },
  {
   "cell_type": "markdown",
   "metadata": {},
   "source": [
    "### Dataset Creation\n",
    "<a id=part1_4></a>"
   ]
  },
  {
   "cell_type": "markdown",
   "metadata": {},
   "source": [
    "We wish to train our model to generate text by constantly predicting what the next char should be based on the past.\n",
    "To that end we'll need to train our recurrent network in a way similar to a classification task. At each timestep, we input a char and set the expected output (label) to be the next char in the original sequence.\n",
    "\n",
    "We will split our corpus into shorter sequences of length `S` chars (see question below).\n",
    "Each **sample** we provide our model with will therefore be a tensor of shape `(S,V)` where `V` is the embedding dimension. Our model will operate sequentially on each char in the sequence.\n",
    "For each sample, we'll also need a **label**. This is simply another sequence, shifted by one char so that the label of each char is the next char in the corpus."
   ]
  },
  {
   "cell_type": "markdown",
   "metadata": {},
   "source": [
    "**TODO**: Implement the `chars_to_labelled_samples()` function in the `hw3/charnn.py` module."
   ]
  },
  {
   "cell_type": "code",
   "execution_count": 8,
   "metadata": {},
   "outputs": [
    {
     "name": "stdout",
     "output_type": "stream",
     "text": [
      "samples shape: torch.Size([91184, 64, 77])\n",
      "labels shape: torch.Size([91184, 64])\n"
     ]
    }
   ],
   "source": [
    "# Create dataset of sequences\n",
    "seq_len = 64\n",
    "vocab_len = len(char_to_idx)\n",
    "\n",
    "# Create labelled samples\n",
    "samples, labels = charnn.chars_to_labelled_samples(corpus, char_to_idx, seq_len, device)\n",
    "print(f'samples shape: {samples.shape}')\n",
    "print(f'labels shape: {labels.shape}')\n",
    "\n",
    "# Test shapes\n",
    "num_samples = (len(corpus) - 1) // seq_len\n",
    "test.assertEqual(samples.shape, (num_samples, seq_len, vocab_len))\n",
    "test.assertEqual(labels.shape, (num_samples, seq_len))\n",
    "\n",
    "# Test content\n",
    "for _ in range(1000):\n",
    "    # random sample\n",
    "    i = np.random.randint(num_samples, size=(1,))[0]\n",
    "    # Compare to corpus\n",
    "    test.assertEqual(unembed(samples[i]), corpus[i*seq_len:(i+1)*seq_len], msg=f\"content mismatch in sample {i}\")\n",
    "    # Compare to labels\n",
    "    sample_text = unembed(samples[i])\n",
    "    label_text = str.join('', [idx_to_char[j.item()] for j in labels[i]])\n",
    "    test.assertEqual(sample_text[1:], label_text[0:-1], msg=f\"label mismatch in sample {i}\")"
   ]
  },
  {
   "cell_type": "markdown",
   "metadata": {},
   "source": [
    "Let's print a few consecutive samples. You should see that the text continues between them."
   ]
  },
  {
   "cell_type": "code",
   "execution_count": 9,
   "metadata": {},
   "outputs": [
    {
     "name": "stdout",
     "output_type": "stream",
     "text": [
      "sample [68804]:\n",
      "\tmay be call'd appetite- No motion of the liver, but the palate-\n",
      "sample [68805]:\n",
      "\tThat suffer surfeit, cloyment, and revolt; But mine is all as hu\n",
      "sample [68806]:\n",
      "\tngry as the sea, And can digest as much. Make no compare Between\n",
      "sample [68807]:\n",
      "\tthat love a woman can bear me And that I owe Olivia. VIOLA. Ay,\n",
      "sample [68808]:\n",
      "\tbut I know- DUKE. What dost thou know? VIOLA. Too well what lov\n"
     ]
    }
   ],
   "source": [
    "import re\n",
    "import random\n",
    "\n",
    "i = random.randrange(num_samples-5)\n",
    "for i in range(i, i+5):\n",
    "    test.assertEqual(len(samples[i]), seq_len)\n",
    "    s = re.sub(r'\\s+', ' ', unembed(samples[i])).strip()\n",
    "    print(f'sample [{i}]:\\n\\t{s}')"
   ]
  },
  {
   "cell_type": "markdown",
   "metadata": {},
   "source": [
    "As usual, instead of feeding one sample at a time into our model's forward we'll work with **batches** of samples. This means that at every timestep, our model will operate on a batch of chars that are from **different sequences**.\n",
    "Effectively this will allow us to parallelize training our model by dong matrix-matrix multiplications\n",
    "instead of matrix-vector during the forward pass."
   ]
  },
  {
   "cell_type": "markdown",
   "metadata": {},
   "source": [
    "An important nuance is that we need the batches to be **contiguous**, i.e. sample $k$ in batch $j$ should continue sample $k$ from batch $j-1$.\n",
    "The following figure illustrates this:\n",
    "\n",
    "<img src=\"imgs/rnn-batching.png\"/>\n",
    "\n",
    "If we naïvely take consecutive samples into batches, e.g. `[0,1,...,B-1]`, `[B,B+1,...,2B-1]` and so on, we won't have contiguous\n",
    "sequences at the same index between adjacent batches.\n",
    "\n",
    "To accomplish this we need to tell our `DataLoader` which samples to combine together into one batch.\n",
    "We do this by implementing a custom PyTorch `Sampler`, and providing it to our `DataLoader`."
   ]
  },
  {
   "cell_type": "markdown",
   "metadata": {},
   "source": [
    "**TODO**: Implement the `SequenceBatchSampler` class in the `hw3/charnn.py` module."
   ]
  },
  {
   "cell_type": "code",
   "execution_count": 10,
   "metadata": {},
   "outputs": [
    {
     "name": "stdout",
     "output_type": "stream",
     "text": [
      "sampler_idx =\n",
      " [0, 1, 2, 3, 4, 5, 6, 7, 8, 9, 10, 11, 12, 13, 14, 15, 16, 17, 18, 19, 20, 21, 22, 23, 24, 25, 26, 27, 28, 29]\n"
     ]
    }
   ],
   "source": [
    "from hw3.charnn import SequenceBatchSampler\n",
    "\n",
    "sampler = SequenceBatchSampler(dataset=range(32), batch_size=10)\n",
    "sampler_idx = list(sampler)\n",
    "print('sampler_idx =\\n', sampler_idx)\n",
    "\n",
    "# Test the Sampler\n",
    "test.assertEqual(len(sampler_idx), 30)\n",
    "batch_idx = np.array(sampler_idx).reshape(-1, 10)\n",
    "for k in range(10):\n",
    "    test.assertEqual(np.diff(batch_idx[:, k], n=2).item(), 0)"
   ]
  },
  {
   "cell_type": "markdown",
   "metadata": {},
   "source": [
    "Even though we're working with sequences, we can still use the standard PyTorch `Dataset`/`DataLoader` combo.\n",
    "For the dataset we can use a built-in class, `TensorDataset` to return tuples of `(sample, label)`\n",
    "from the `samples` and `labels` tensors we created above.\n",
    "The `DataLoader` will be provided with our custom `Sampler` so that it generates appropriate batches."
   ]
  },
  {
   "cell_type": "code",
   "execution_count": 11,
   "metadata": {},
   "outputs": [],
   "source": [
    "import torch.utils.data\n",
    "\n",
    "# Create DataLoader returning batches of samples.\n",
    "batch_size = 32\n",
    "\n",
    "ds_corpus = torch.utils.data.TensorDataset(samples, labels)\n",
    "sampler_corpus = SequenceBatchSampler(ds_corpus, batch_size)\n",
    "dl_corpus = torch.utils.data.DataLoader(ds_corpus, batch_size=batch_size, sampler=sampler_corpus, shuffle=False)"
   ]
  },
  {
   "cell_type": "markdown",
   "metadata": {},
   "source": [
    "Let's see what that gives us:"
   ]
  },
  {
   "cell_type": "code",
   "execution_count": 12,
   "metadata": {},
   "outputs": [
    {
     "name": "stdout",
     "output_type": "stream",
     "text": [
      "num batches: 2850\n",
      "shape of a batch of samples: torch.Size([32, 64, 77])\n",
      "shape of a batch of labels: torch.Size([32, 64])\n"
     ]
    }
   ],
   "source": [
    "print(f'num batches: {len(dl_corpus)}')\n",
    "\n",
    "x0, y0 = next(iter(dl_corpus))\n",
    "print(f'shape of a batch of samples: {x0.shape}')\n",
    "print(f'shape of a batch of labels: {y0.shape}')"
   ]
  },
  {
   "cell_type": "markdown",
   "metadata": {},
   "source": [
    "Now lets look at the same sample index from multiple batches taken from our corpus."
   ]
  },
  {
   "cell_type": "code",
   "execution_count": 13,
   "metadata": {},
   "outputs": [
    {
     "name": "stdout",
     "output_type": "stream",
     "text": [
      "=== batch 0, sample 5 (torch.Size([64, 77])): ===\n",
      "\tousillon A PAGE, Servant to the Countess of Rousillon COUNTESS O\n",
      "=== batch 1, sample 5 (torch.Size([64, 77])): ===\n",
      "\tnot notorious. Was this gentlewoman the daughter of Gerard de Na\n",
      "=== batch 2, sample 5 (torch.Size([64, 77])): ===\n",
      "\tt all! I think not on my father; And these great tears grace his\n",
      "=== batch 3, sample 5 (torch.Size([64, 77])): ===\n",
      "\tnity is rational increase; and there was never virgin got till v\n",
      "=== batch 4, sample 5 (torch.Size([64, 77])): ===\n",
      "\tle ambition, proud humility, His jarring concord, and his discor\n"
     ]
    }
   ],
   "source": [
    "# Check that sentences in in same index of different batches complete each other.\n",
    "k = random.randrange(batch_size)\n",
    "for j, (X, y) in enumerate(dl_corpus,):\n",
    "    print(f'=== batch {j}, sample {k} ({X[k].shape}): ===')\n",
    "    s = re.sub(r'\\s+', ' ', unembed(X[k])).strip()\n",
    "    print(f'\\t{s}')\n",
    "    if j==4: break"
   ]
  },
  {
   "cell_type": "markdown",
   "metadata": {},
   "source": [
    "### Model Implementation\n",
    "<a id=part1_5></a>"
   ]
  },
  {
   "cell_type": "markdown",
   "metadata": {},
   "source": [
    "Finally, our data set is ready so we can focus on our model.\n",
    "\n",
    "We'll implement here is a multilayer gated recurrent unit (GRU) model, with dropout.\n",
    "This model is a type of RNN which performs similar to the well-known LSTM model,\n",
    "but it's somewhat easier to train because it has less parameters.\n",
    "We'll modify the regular GRU slightly by applying dropout to\n",
    "the hidden states passed between layers of the model.\n",
    "\n",
    "The model accepts an input $\\mat{X}\\in\\set{R}^{S\\times V}$ containing a sequence of embedded chars.\n",
    "It returns an output $\\mat{Y}\\in\\set{R}^{S\\times V}$ of predictions for the next char and the final hidden state\n",
    "$\\mat{H}\\in\\set{R}^{L\\times H}$. Here $S$ is the sequence length, $V$ is the vocabulary size (number of unique chars), $L$ is the number of layers in the model and $H$ is the hidden dimension."
   ]
  },
  {
   "cell_type": "markdown",
   "metadata": {},
   "source": [
    "Mathematically, the model's forward function at layer $k\\in[1,L]$ and timestep $t\\in[1,S]$ can be described as\n",
    "\n",
    "$$\n",
    "\\begin{align}\n",
    "\\vec{z_t}^{[k]} &= \\sigma\\left(\\vec{x}^{[k]}_t {\\mattr{W}_{\\mathrm{xz}}}^{[k]} +\n",
    "    \\vec{h}_{t-1}^{[k]} {\\mattr{W}_{\\mathrm{hz}}}^{[k]} + \\vec{b}_{\\mathrm{z}}^{[k]}\\right) \\\\\n",
    "\\vec{r_t}^{[k]} &= \\sigma\\left(\\vec{x}^{[k]}_t {\\mattr{W}_{\\mathrm{xr}}}^{[k]} +\n",
    "    \\vec{h}_{t-1}^{[k]} {\\mattr{W}_{\\mathrm{hr}}}^{[k]} + \\vec{b}_{\\mathrm{r}}^{[k]}\\right) \\\\\n",
    "\\vec{g_t}^{[k]} &= \\tanh\\left(\\vec{x}^{[k]}_t {\\mattr{W}_{\\mathrm{xg}}}^{[k]} +\n",
    "    (\\vec{r_t}^{[k]}\\odot\\vec{h}_{t-1}^{[k]}) {\\mattr{W}_{\\mathrm{hg}}}^{[k]} + \\vec{b}_{\\mathrm{g}}^{[k]}\\right) \\\\\n",
    "\\vec{h_t}^{[k]} &= \\vec{z}^{[k]}_t \\odot \\vec{h}^{[k]}_{t-1} + \\left(1-\\vec{z}^{[k]}_t\\right)\\odot \\vec{g_t}^{[k]}\n",
    "\\end{align}\n",
    "$$"
   ]
  },
  {
   "cell_type": "markdown",
   "metadata": {},
   "source": [
    "The input to each layer is,\n",
    "$$\n",
    "\\mat{X}^{[k]} =\n",
    "\\begin{bmatrix}\n",
    "    {\\vec{x}_1}^{[k]} \\\\ \\vdots \\\\ {\\vec{x}_S}^{[k]}\n",
    "\\end{bmatrix} \n",
    "=\n",
    "\\begin{cases}\n",
    "    \\mat{X} & \\mathrm{if} ~k = 1~ \\\\\n",
    "    \\mathrm{dropout}_p \\left(\n",
    "    \\begin{bmatrix}\n",
    "        {\\vec{h}_1}^{[k-1]} \\\\ \\vdots \\\\ {\\vec{h}_S}^{[k-1]}\n",
    "    \\end{bmatrix} \\right) & \\mathrm{if} ~1 < k \\leq L+1~\n",
    "\\end{cases}.\n",
    "$$"
   ]
  },
  {
   "cell_type": "markdown",
   "metadata": {},
   "source": [
    "The output of the entire model is then,\n",
    "$$\n",
    "\\mat{Y} = \\mat{X}^{[L+1]} {\\mattr{W}_{\\mathrm{hy}}} + \\mat{B}_{\\mathrm{y}}\n",
    "$$"
   ]
  },
  {
   "cell_type": "markdown",
   "metadata": {},
   "source": [
    "and the final hidden state is\n",
    "$$\n",
    "\\mat{H} = \n",
    "\\begin{bmatrix}\n",
    "    {\\vec{h}_S}^{[1]} \\\\ \\vdots \\\\ {\\vec{h}_S}^{[L]}\n",
    "\\end{bmatrix}.\n",
    "$$"
   ]
  },
  {
   "cell_type": "markdown",
   "metadata": {},
   "source": [
    "Notes:\n",
    "- $t\\in[1,S]$ is the timestep, i.e. the current position within the sequence of each sample.\n",
    "- $\\vec{x}_t^{[k]}$ is the input of layer $k$ at timestep $t$, respectively.\n",
    "- The outputs of the **last layer** $\\vec{y}_t^{[L]}$, are the predicted next characters for every input char.\n",
    "  These are similar to class scores in classification tasks.\n",
    "- The hidden states at the **last timestep**, $\\vec{h}_S^{[k]}$, are the final hidden state returned from the model.\n",
    "- $\\sigma(\\cdot)$ is the sigmoid function, i.e. $\\sigma(\\vec{z}) = 1/(1+e^{-\\vec{z}})$ which returns values in $(0,1)$.\n",
    "- $\\tanh(\\cdot)$ is the hyperbolic tangent, i.e. $\\tanh(\\vec{z}) = (e^{2\\vec{z}}-1)/(e^{2\\vec{z}}+1)$ which returns values in $(-1,1)$.\n",
    "- $\\vec{h_t}^{[k]}$ is the hidden state of layer $k$ at time $t$. This can be thought of as the memory of that layer.\n",
    "- $\\vec{g_t}^{[k]}$ is the candidate hidden state for time $t+1$.\n",
    "- $\\vec{z_t}^{[k]}$ is known as the update gate. It combines the previous state with the input to determine how much the current state will be combined with the new candidate state. For example, if $\\vec{z_t}^{[k]}=\\vec{1}$ then the current input has no effect on the output.\n",
    "- $\\vec{r_t}^{[k]}$ is known as the reset gate. It combines the previous state with the input to determine how much of the previous state will affect the current state candidate. For example if $\\vec{r_t}^{[k]}=\\vec{0}$ the previous state has no effect on the current candidate state."
   ]
  },
  {
   "cell_type": "markdown",
   "metadata": {},
   "source": [
    "Here's a graphical representation of the GRU's forward pass at each timestep. The $\\vec{\\tilde{h}}$ in the image is our $\\vec{g}$ (candidate next state).\n",
    "\n",
    "<img src=\"imgs/gru_cell.png\" width=\"400\"/>\n",
    "\n",
    "You can see how the reset and update gates allow the model to completely ignore it's previous state, completely ignore it's input, or any mixture of those states (since the gates are actually continuous and between $(0,1)$)."
   ]
  },
  {
   "cell_type": "markdown",
   "metadata": {},
   "source": [
    "Here's a graphical representation of the entire model.\n",
    "You can ignore the $c_t^{[k]}$ (cell state) variables (which are relevant for LSTM models).\n",
    "Our model has only the hidden state, $h_t^{[k]}$. Also notice that we added dropout between layers (i.e., on the up arrows).\n",
    "\n",
    "<img src=\"imgs/lstm_model.png\" />\n",
    "\n",
    "The purple tensors are inputs (a sequence and initial hidden state per layer), and the green tensors are outputs (another sequence and final hidden state per layer). Each blue block implements the above forward equations.\n",
    "Blocks that are on the same vertical level are at the same layer, and therefore share parameters."
   ]
  },
  {
   "cell_type": "markdown",
   "metadata": {},
   "source": [
    "**TODO**: Implement the `MultilayerGRU` class in the `hw3/charnn.py` module.\n",
    "\n",
    "Notes:\n",
    "- You'll need to handle input **batches** now.\n",
    "  The math is identical to the above, but all the tensors will have an extra batch\n",
    "  dimension as their first dimension.\n",
    "- Use the diagram above to help guide your implementation.\n",
    "  It will help you visualize what shapes to returns where, etc.\n"
   ]
  },
  {
   "cell_type": "code",
   "execution_count": 14,
   "metadata": {},
   "outputs": [
    {
     "name": "stdout",
     "output_type": "stream",
     "text": [
      "MultilayerGRU(\n",
      "  (z_x0): Linear(in_features=77, out_features=256, bias=False)\n",
      "  (z_h0): Linear(in_features=256, out_features=256, bias=True)\n",
      "  (r_x0): Linear(in_features=77, out_features=256, bias=False)\n",
      "  (r_h0): Linear(in_features=256, out_features=256, bias=True)\n",
      "  (g_x0): Linear(in_features=77, out_features=256, bias=False)\n",
      "  (g_h0): Linear(in_features=256, out_features=256, bias=True)\n",
      "  (z_x1): Linear(in_features=256, out_features=256, bias=False)\n",
      "  (z_h1): Linear(in_features=256, out_features=256, bias=True)\n",
      "  (r_x1): Linear(in_features=256, out_features=256, bias=False)\n",
      "  (r_h1): Linear(in_features=256, out_features=256, bias=True)\n",
      "  (g_x1): Linear(in_features=256, out_features=256, bias=False)\n",
      "  (g_h1): Linear(in_features=256, out_features=256, bias=True)\n",
      "  (z_x2): Linear(in_features=256, out_features=256, bias=False)\n",
      "  (z_h2): Linear(in_features=256, out_features=256, bias=True)\n",
      "  (r_x2): Linear(in_features=256, out_features=256, bias=False)\n",
      "  (r_h2): Linear(in_features=256, out_features=256, bias=True)\n",
      "  (g_x2): Linear(in_features=256, out_features=256, bias=False)\n",
      "  (g_h2): Linear(in_features=256, out_features=256, bias=True)\n",
      "  (dropout): Dropout(p=0, inplace=False)\n",
      "  (Y): Linear(in_features=256, out_features=77, bias=True)\n",
      ")\n",
      "y.shape=torch.Size([32, 64, 77])\n",
      "h.shape=torch.Size([32, 3, 256])\n"
     ]
    }
   ],
   "source": [
    "in_dim = vocab_len\n",
    "h_dim = 256\n",
    "n_layers = 3\n",
    "model = charnn.MultilayerGRU(in_dim, h_dim, out_dim=in_dim, n_layers=n_layers)\n",
    "model = model.to(device)\n",
    "print(model)\n",
    "\n",
    "# Test forward pass\n",
    "y, h = model(x0.to(dtype=torch.float, device=device))\n",
    "print(f'y.shape={y.shape}')\n",
    "print(f'h.shape={h.shape}')\n",
    "\n",
    "test.assertEqual(y.shape, (batch_size, seq_len, vocab_len))\n",
    "test.assertEqual(h.shape, (batch_size, n_layers, h_dim))\n",
    "test.assertEqual(len(list(model.parameters())), 9 * n_layers + 2) "
   ]
  },
  {
   "cell_type": "markdown",
   "metadata": {},
   "source": [
    "### Generating text by sampling\n",
    "<a id=part1_6></a>"
   ]
  },
  {
   "cell_type": "markdown",
   "metadata": {},
   "source": [
    "Now that we have a model, we can implement **text generation** based on it.\n",
    "The idea is simple:\n",
    "At each timestep our model receives one char $x_t$ from the input sequence and outputs scores $y_t$\n",
    "for what the next char should be.\n",
    "We'll convert these scores into a probability over each of the possible chars.\n",
    "In other words, for each input char $x_t$ we create a probability distribution for the next char\n",
    "conditioned on the current one and the state of the model (representing all previous inputs):\n",
    "$$p(x_{t+1}|x_t, \\vec{h}_t).$$\n",
    "\n",
    "Once we have such a distribution, we'll sample a char from it.\n",
    "This will be the first char of our generated sequence.\n",
    "Now we can feed this new char into the model, create another distribution, sample the next char and so on.\n",
    "Note that it's crucial to propagate the hidden state when sampling."
   ]
  },
  {
   "cell_type": "markdown",
   "metadata": {},
   "source": [
    "The important point however is how to create the distribution from the scores.\n",
    "One way, as we saw in previous ML tasks, is to use the softmax function.\n",
    "However, a drawback of softmax is that it can generate very diffuse (more uniform) distributions if the score values are very similar. When sampling, we would prefer to control the distributions and make them less uniform to increase the chance of sampling the char(s) with the highest scores compared to the others.\n",
    "\n",
    "To control the variance of the distribution, a common trick is to add a hyperparameter $T$, known as the \n",
    "*temperature* to the softmax function. The class scores are simply scaled by $T$ before softmax is applied:\n",
    "$$\n",
    "\\mathrm{softmax}_T(\\vec{y}) = \\frac{e^{\\vec{y}/T}}{\\sum_k e^{y_k/T}}\n",
    "$$\n",
    "\n",
    "A low $T$ will result in less uniform distributions and vice-versa."
   ]
  },
  {
   "cell_type": "markdown",
   "metadata": {},
   "source": [
    "**TODO**: Implement the `hot_softmax()` function in the `hw3/charnn.py` module."
   ]
  },
  {
   "cell_type": "code",
   "execution_count": 15,
   "metadata": {},
   "outputs": [
    {
     "data": {
      "image/png": "[encoded data removed]",
      "text/plain": [
       "<Figure size 1080x360 with 1 Axes>"
      ]
     },
     "metadata": {
      "needs_background": "light"
     },
     "output_type": "display_data"
    }
   ],
   "source": [
    "scores = y[0,0,:].detach()\n",
    "_, ax = plt.subplots(figsize=(15,5))\n",
    "\n",
    "for t in reversed([0.3, 0.5, 1.0, 100]):\n",
    "    ax.plot(charnn.hot_softmax(scores, temperature=t).cpu().numpy(), label=f'T={t}')\n",
    "ax.set_xlabel('$x_{t+1}$')\n",
    "ax.set_ylabel('$p(x_{t+1}|x_t)$')\n",
    "ax.legend()\n",
    "\n",
    "uniform_proba = 1/len(char_to_idx)\n",
    "uniform_diff = torch.abs(charnn.hot_softmax(scores, temperature=100) - uniform_proba)\n",
    "test.assertTrue(torch.all(uniform_diff < 1e-4))"
   ]
  },
  {
   "cell_type": "markdown",
   "metadata": {},
   "source": [
    "**TODO**: Implement the `generate_from_model()` function in the `hw3/charnn.py` module."
   ]
  },
  {
   "cell_type": "code",
   "execution_count": 16,
   "metadata": {},
   "outputs": [
    {
     "name": "stdout",
     "output_type": "stream",
     "text": [
      "foobar(0zP7iYq4Y!\"fd(Ub;tY,AGhhPUDuKDKcdrkWsHqEyw3\n",
      "foobart9voG;1UC4!(2piY&ir77T PyYFhk5:MyKzN!T[]W',S\n",
      "foobarqTC&rqJD5-c[r3CJLZHwwLm8[WZ3MQ:-bqQytZmHF(KY\n"
     ]
    }
   ],
   "source": [
    "for _ in range(3):\n",
    "    text = charnn.generate_from_model(model, \"foobar\", 50, (char_to_idx, idx_to_char), T=0.5)\n",
    "    print(text)\n",
    "    test.assertEqual(len(text), 50)"
   ]
  },
  {
   "cell_type": "markdown",
   "metadata": {},
   "source": [
    "### Training\n",
    "<a id=part1_7></a>"
   ]
  },
  {
   "cell_type": "markdown",
   "metadata": {},
   "source": [
    "To train this model, we'll calculate the loss at each time step by comparing the predicted char to\n",
    "the actual char from our label. We can use cross entropy since per char it's similar to a classification problem.\n",
    "We'll then sum the losses over the sequence and back-propagate the gradients though time.\n",
    "Notice that the back-propagation algorithm will \"visit\" each layer's parameter tensors multiple times,\n",
    "so we'll accumulate gradients in parameters of the blocks. Luckily `autograd` will handle this part for us."
   ]
  },
  {
   "cell_type": "markdown",
   "metadata": {},
   "source": [
    "As usual, the first step of training will be to try and **overfit** a large model (many parameters) to a tiny dataset.\n",
    "Again, this is to ensure the model and training code are implemented correctly, i.e. that the model can learn.\n",
    "\n",
    "For a generative model such as this, overfitting is slightly trickier than for classification.\n",
    "What we'll aim to do is to get our model to **memorize** a specific sequence of chars, so that when given the first\n",
    "char in the sequence it will immediately spit out the rest of the sequence verbatim.\n",
    "\n",
    "Let's create a tiny dataset to memorize."
   ]
  },
  {
   "cell_type": "code",
   "execution_count": 17,
   "metadata": {},
   "outputs": [
    {
     "name": "stdout",
     "output_type": "stream",
     "text": [
      "Text to \"memorize\":\n",
      "\n",
      "rly mistress. Who was with him? SECOND GENTLEMAN. A servant only, and a gentleman Which I have sometime known. COUNTESS. Parolles, was it not? SECOND GENTLEMAN. Ay, my good lady, he. COUNTESS. A very tainted fellow, and full of wickedness. My son corrupts \n"
     ]
    }
   ],
   "source": [
    "# Pick a tiny subset of the dataset\n",
    "subset_start, subset_end = 1001, 1005\n",
    "ds_corpus_ss = torch.utils.data.Subset(ds_corpus, range(subset_start, subset_end))\n",
    "batch_size_ss = 1\n",
    "sampler_ss = SequenceBatchSampler(ds_corpus_ss, batch_size=batch_size_ss)\n",
    "dl_corpus_ss = torch.utils.data.DataLoader(ds_corpus_ss, batch_size_ss, sampler=sampler_ss, shuffle=False)\n",
    "\n",
    "# Convert subset to text\n",
    "subset_text = ''\n",
    "for i in range(subset_end - subset_start):\n",
    "    subset_text += unembed(ds_corpus_ss[i][0])\n",
    "print(f'Text to \"memorize\":\\n\\n{subset_text}')"
   ]
  },
  {
   "cell_type": "markdown",
   "metadata": {},
   "source": [
    "Now let's implement the first part of our training code.\n",
    "\n",
    "**TODO**: Implement the `train_epoch()` and `train_batch()` methods of the `RNNTrainer` class in the `hw3/training.py` module. \n",
    "You must think about how to correctly handle the hidden state of the model between batches and epochs for this specific task (i.e. text generation)."
   ]
  },
  {
   "cell_type": "code",
   "execution_count": 18,
   "metadata": {},
   "outputs": [
    {
     "name": "stdout",
     "output_type": "stream",
     "text": [
      "\n",
      "Epoch #1: Avg. loss = 4.035, Accuracy = 10.94%\n",
      "rTo.  oooollt ool ooala oolla tl  ooloo atlsl ool ooloolal  oollol  lool alo  oololola  aoolll at ol olo o ooaat olooll  oa oooaloall   ooooll aol al o oololo  loaalla oltl  ooolo l  lo tol oo o oolalo lo oolll a oolol looaol ala oolll   olaatloa  ooltloo \n",
      "\n",
      "Epoch #25: Avg. loss = 0.019, Accuracy = 98.83%\n",
      "rly mistress. Who was with him? SECOND GENTLEMAN. Ay, my good lady, he. COUNTESS. Parolles, was it not? SECOND GENTLEMAN. Ay, my good lady, he. COUNTESS. Parolles, was it not? SECOND GENTLEMAN. Ay, my good lady, he. COUNTESS. Parolles, was it not? SECOND G\n",
      "\n",
      "Epoch #50: Avg. loss = 0.010, Accuracy = 99.61%\n",
      "rly mistress. Who was with him? SECOND GENTLEMAN. A servant only, and a gentleman Which I have sometime known. COUNTESS. Parolles, was it not? SECOND GENTLEMAN. Ay, my good lady, he. COUNTESS. Parolles, was it not? SECOND GENTLEMAN. Ay, my good lady, he. C\n",
      "\n",
      "Epoch #75: Avg. loss = 0.005, Accuracy = 100.00%\n",
      "rly mistress. Who was with him? SECOND GENTLEMAN. A servant only, and a gentleman Which I have sometime known. COUNTESS. Parolles, was it not? SECOND GENTLEMAN. Ay, my good lady, he. COUNTESS. A very tainted fellow, and full of wickedness. My son corrupts \n"
     ]
    }
   ],
   "source": [
    "import torch.nn as nn\n",
    "import torch.optim as optim\n",
    "from hw3.training import RNNTrainer\n",
    "\n",
    "torch.manual_seed(42)\n",
    "\n",
    "lr = 0.01\n",
    "num_epochs = 500\n",
    "\n",
    "in_dim = vocab_len\n",
    "h_dim = 128\n",
    "n_layers = 2\n",
    "loss_fn = nn.CrossEntropyLoss()\n",
    "model = charnn.MultilayerGRU(in_dim, h_dim, out_dim=in_dim, n_layers=n_layers).to(device)\n",
    "optimizer = optim.Adam(model.parameters(), lr=lr)\n",
    "trainer = RNNTrainer(model, loss_fn, optimizer, device)\n",
    "\n",
    "for epoch in range(num_epochs):\n",
    "    epoch_result = trainer.train_epoch(dl_corpus_ss, verbose=False)\n",
    "    \n",
    "    # Every X epochs, we'll generate a sequence starting from the first char in the first sequence\n",
    "    # to visualize how/if/what the model is learning.\n",
    "    if epoch == 0 or (epoch+1) % 25 == 0:\n",
    "        avg_loss = np.mean(epoch_result.losses)\n",
    "        accuracy = np.mean(epoch_result.accuracy)\n",
    "        print(f'\\nEpoch #{epoch+1}: Avg. loss = {avg_loss:.3f}, Accuracy = {accuracy:.2f}%')\n",
    "        \n",
    "        generated_sequence = charnn.generate_from_model(model, subset_text[0],\n",
    "                                                        seq_len*(subset_end-subset_start),\n",
    "                                                        (char_to_idx,idx_to_char), T=0.1)\n",
    "        \n",
    "        # Stop if we've successfully memorized the small dataset.\n",
    "        print(generated_sequence)\n",
    "        if generated_sequence == subset_text:\n",
    "            break\n",
    "\n",
    "# Test successful overfitting\n",
    "test.assertGreater(epoch_result.accuracy, 99)\n",
    "test.assertEqual(generated_sequence, subset_text)"
   ]
  },
  {
   "cell_type": "markdown",
   "metadata": {},
   "source": [
    "OK, so training works - we can memorize a short sequence.\n",
    "We'll now train a much larger model on our large dataset. You'll need a GPU for this part.\n",
    "\n",
    "First, lets set up our dataset and models for training.\n",
    "We'll split our corpus into 90% train and 10% test-set.\n",
    "Also, we'll use a learning-rate scheduler to control the learning rate during training."
   ]
  },
  {
   "cell_type": "markdown",
   "metadata": {},
   "source": [
    "**TODO**: Set the hyperparameters in the `part1_rnn_hyperparams()` function of the `hw3/answers.py` module."
   ]
  },
  {
   "cell_type": "code",
   "execution_count": 19,
   "metadata": {},
   "outputs": [
    {
     "name": "stdout",
     "output_type": "stream",
     "text": [
      "hyperparams:\n",
      " {'batch_size': 150, 'seq_len': 64, 'h_dim': 256, 'n_layers': 3, 'dropout': 0.2, 'learn_rate': 0.001, 'lr_sched_factor': 0.3, 'lr_sched_patience': 3}\n",
      "Train: 547 batches, 5251200 chars\n",
      "Test:   60 batches,  576000 chars\n"
     ]
    }
   ],
   "source": [
    "from hw3.answers import part1_rnn_hyperparams\n",
    "\n",
    "hp = part1_rnn_hyperparams()\n",
    "print('hyperparams:\\n', hp)\n",
    "\n",
    "### Dataset definition\n",
    "vocab_len = len(char_to_idx)\n",
    "batch_size = hp['batch_size']\n",
    "seq_len = hp['seq_len']\n",
    "train_test_ratio = 0.9\n",
    "num_samples = (len(corpus) - 1) // seq_len\n",
    "num_train = int(train_test_ratio * num_samples)\n",
    "\n",
    "samples, labels = charnn.chars_to_labelled_samples(corpus, char_to_idx, seq_len, device)\n",
    "\n",
    "ds_train = torch.utils.data.TensorDataset(samples[:num_train], labels[:num_train])\n",
    "sampler_train = SequenceBatchSampler(ds_train, batch_size)\n",
    "dl_train = torch.utils.data.DataLoader(ds_train, batch_size, shuffle=False, sampler=sampler_train, drop_last=True)\n",
    "\n",
    "ds_test = torch.utils.data.TensorDataset(samples[num_train:], labels[num_train:])\n",
    "sampler_test = SequenceBatchSampler(ds_test, batch_size)\n",
    "dl_test = torch.utils.data.DataLoader(ds_test, batch_size, shuffle=False, sampler=sampler_test, drop_last=True)\n",
    "\n",
    "print(f'Train: {len(dl_train):3d} batches, {len(dl_train)*batch_size*seq_len:7d} chars')\n",
    "print(f'Test:  {len(dl_test):3d} batches, {len(dl_test)*batch_size*seq_len:7d} chars')\n",
    "\n",
    "### Training definition\n",
    "in_dim = out_dim = vocab_len\n",
    "checkpoint_file = 'checkpoints/rnn'\n",
    "num_epochs = 50\n",
    "early_stopping = 5\n",
    "\n",
    "model = charnn.MultilayerGRU(in_dim, hp['h_dim'], out_dim, hp['n_layers'], hp['dropout'])\n",
    "loss_fn = nn.CrossEntropyLoss()\n",
    "optimizer = optim.Adam(model.parameters(), lr=hp['learn_rate'])\n",
    "scheduler = optim.lr_scheduler.ReduceLROnPlateau(\n",
    "    optimizer, mode='max', factor=hp['lr_sched_factor'], patience=hp['lr_sched_patience'], verbose=True\n",
    ")\n",
    "trainer = RNNTrainer(model, loss_fn, optimizer, device)"
   ]
  },
  {
   "cell_type": "markdown",
   "metadata": {},
   "source": [
    "The code blocks below will train the model and save checkpoints containing the training state and the best model parameters to a file. This allows you to stop training and resume it later from where you left.\n",
    "\n",
    "Note that you can use the `main.py` script provided within the assignment folder to run this notebook from the command line as if it were a python script by using the `run-nb` subcommand. This allows you to train your model using this notebook without starting jupyter. You can combine this with `srun` or `sbatch` to run the notebook with a GPU on the course servers."
   ]
  },
  {
   "cell_type": "markdown",
   "metadata": {},
   "source": [
    "**TODO**:\n",
    "- Implement the `fit()` method of the `Trainer` class. You can reuse the relevant implementation parts from HW2, but make sure to implement early stopping and checkpoints.\n",
    "- Implement the `test_epoch()` and `test_batch()` methods of the `RNNTrainer` class in the `hw3/training.py` module.\n",
    "- Run the following block to train.\n",
    "- When training is done and you're satisfied with the model's outputs, rename the checkpoint file to `checkpoints/rnn_final.pt`.\n",
    "  This will cause the block to skip training and instead load your saved model when running the homework submission script.\n",
    "  Note that your submission zip file will not include the checkpoint file. This is OK."
   ]
  },
  {
   "cell_type": "code",
   "execution_count": 20,
   "metadata": {},
   "outputs": [
    {
     "name": "stdout",
     "output_type": "stream",
     "text": [
      "ACT I.ph Yaz d'llXx(i,lTz)Yr1NvxbFQA91Sb\"OA(8vyqvtLRssNd[6,oCkihqOLib5;[0OpY:Z)KCF8rpto,6Pg:J(bNld&t\n",
      "--- EPOCH 1/50 ---\n",
      "train_batch (Avg. Loss 2.244, Accuracy 37.5): 100%|██████████| 547/547 [02:06<00:00,  4.31it/s]\n",
      "test_batch (Avg. Loss 1.820, Accuracy 46.2): 100%|██████████| 60/60 [00:04<00:00, 12.27it/s]\n",
      "*** Saved checkpoint checkpoints/rnn.pt at epoch 1\n",
      "ACT I. The for I have the the leave of with the seen our and man my queen. NORY: Where a than the da\n",
      "--- EPOCH 2/50 ---\n",
      "train_batch (Avg. Loss 1.819, Accuracy 47.3): 100%|██████████| 547/547 [02:05<00:00,  4.37it/s]\n",
      "test_batch (Avg. Loss 1.657, Accuracy 50.7): 100%|██████████| 60/60 [00:04<00:00, 12.09it/s]\n",
      "*** Saved checkpoint checkpoints/rnn.pt at epoch 2\n",
      "ACT I. BONIN: I cannot bear the hand, And then throme at my marth down to the soul of the serve to h\n",
      "--- EPOCH 3/50 ---\n",
      "train_batch (Avg. Loss 1.701, Accuracy 50.5): 100%|██████████| 547/547 [02:06<00:00,  4.31it/s]\n",
      "test_batch (Avg. Loss 1.576, Accuracy 52.8): 100%|██████████| 60/60 [00:05<00:00, 11.90it/s]\n",
      "*** Saved checkpoint checkpoints/rnn.pt at epoch 3\n",
      "ACT I. Marry, thou shalt who should sent me to me so much of the tongue, Or place to the strong love\n",
      "--- EPOCH 4/50 ---\n",
      "train_batch (Avg. Loss 1.636, Accuracy 52.2): 100%|██████████| 547/547 [02:06<00:00,  4.32it/s]\n",
      "test_batch (Avg. Loss 1.527, Accuracy 54.2): 100%|██████████| 60/60 [00:04<00:00, 12.38it/s]\n",
      "*** Saved checkpoint checkpoints/rnn.pt at epoch 4\n",
      "ACT I. CORIOLANUS: How now thou would it is not so live, sir, I must not shall she comes the can tha\n",
      "--- EPOCH 5/50 ---\n",
      "train_batch (Avg. Loss 1.594, Accuracy 53.3): 100%|██████████| 547/547 [02:03<00:00,  4.43it/s]\n",
      "test_batch (Avg. Loss 1.496, Accuracy 54.9): 100%|██████████| 60/60 [00:04<00:00, 12.38it/s]\n",
      "*** Saved checkpoint checkpoints/rnn.pt at epoch 5\n",
      "ACT I. SCENE II: I will then love thee to see the world, and the sun his fair revenge, That I shall \n",
      "--- EPOCH 6/50 ---\n",
      "train_batch (Avg. Loss 1.565, Accuracy 54.1): 100%|██████████| 547/547 [02:04<00:00,  4.40it/s]\n",
      "test_batch (Avg. Loss 1.474, Accuracy 55.5): 100%|██████████| 60/60 [00:04<00:00, 12.06it/s]\n",
      "*** Saved checkpoint checkpoints/rnn.pt at epoch 6\n",
      "ACT I. SCENE II: I know see thee to frail me with the body and thy fair state. LEONTES: No, not to b\n",
      "--- EPOCH 7/50 ---\n",
      "train_batch (Avg. Loss 1.544, Accuracy 54.6): 100%|██████████| 547/547 [02:07<00:00,  4.29it/s]\n",
      "test_batch (Avg. Loss 1.458, Accuracy 55.9): 100%|██████████| 60/60 [00:04<00:00, 12.06it/s]\n",
      "*** Saved checkpoint checkpoints/rnn.pt at epoch 7\n",
      "ACT I. Romeo, therefore, come, my lord, sweet lord, I have a sun of the fair a drum in the face. DUK\n",
      "--- EPOCH 8/50 ---\n",
      "train_batch (Avg. Loss 1.527, Accuracy 55.1): 100%|██████████| 547/547 [02:04<00:00,  4.41it/s]\n",
      "test_batch (Avg. Loss 1.446, Accuracy 56.2): 100%|██████████| 60/60 [00:04<00:00, 12.35it/s]\n",
      "*** Saved checkpoint checkpoints/rnn.pt at epoch 8\n",
      "ACT I. SCENE II: A stranger said, and the air of the way. GLOUCESTER: I will speak a shade shall see\n",
      "--- EPOCH 9/50 ---\n",
      "train_batch (Avg. Loss 1.514, Accuracy 55.4): 100%|██████████| 547/547 [02:05<00:00,  4.35it/s]\n",
      "test_batch (Avg. Loss 1.436, Accuracy 56.4): 100%|██████████| 60/60 [00:04<00:00, 12.00it/s]\n",
      "*** Saved checkpoint checkpoints/rnn.pt at epoch 9\n",
      "ACT I. SCENE II OF YORK: And I have from their chain comes and with some self and all the came to my\n",
      "--- EPOCH 10/50 ---\n",
      "train_batch (Avg. Loss 1.503, Accuracy 55.7): 100%|██████████| 547/547 [02:07<00:00,  4.30it/s]\n",
      "test_batch (Avg. Loss 1.428, Accuracy 56.7): 100%|██████████| 60/60 [00:04<00:00, 12.04it/s]\n",
      "*** Saved checkpoint checkpoints/rnn.pt at epoch 10\n",
      "ACT I. SCENE II: This soul like a defend and the prince of a state of my good lord, we have the foun\n",
      "--- EPOCH 11/50 ---\n",
      "train_batch (Avg. Loss 1.494, Accuracy 55.9): 100%|██████████| 547/547 [02:06<00:00,  4.32it/s]\n",
      "test_batch (Avg. Loss 1.420, Accuracy 56.8): 100%|██████████| 60/60 [00:04<00:00, 12.28it/s]\n",
      "*** Saved checkpoint checkpoints/rnn.pt at epoch 11\n",
      "ACT I. SCENE III: I will not live and way, and let the world shall be the fair and hath dead? BENVOL\n",
      "--- EPOCH 12/50 ---\n",
      "train_batch (Avg. Loss 1.485, Accuracy 56.1): 100%|██████████| 547/547 [02:03<00:00,  4.42it/s]\n",
      "test_batch (Avg. Loss 1.415, Accuracy 56.9): 100%|██████████| 60/60 [00:04<00:00, 12.05it/s]\n",
      "*** Saved checkpoint checkpoints/rnn.pt at epoch 12\n",
      "ACT I. SCENE II: A good lord, and stand at some such a word: Where is the man may be consul the gall\n",
      "--- EPOCH 13/50 ---\n",
      "train_batch (Avg. Loss 1.479, Accuracy 56.3): 100%|██████████| 547/547 [02:07<00:00,  4.28it/s]\n",
      "test_batch (Avg. Loss 1.408, Accuracy 57.1): 100%|██████████| 60/60 [00:05<00:00, 11.99it/s]\n",
      "*** Saved checkpoint checkpoints/rnn.pt at epoch 13\n",
      "ACT I. SCENE II: And so long all the will I will be so too here and the way; The whole souls are wel\n",
      "--- EPOCH 14/50 ---\n",
      "train_batch (Avg. Loss 1.473, Accuracy 56.4): 100%|██████████| 547/547 [02:09<00:00,  4.24it/s]\n",
      "test_batch (Avg. Loss 1.403, Accuracy 57.3): 100%|██████████| 60/60 [00:05<00:00, 11.87it/s]\n",
      "*** Saved checkpoint checkpoints/rnn.pt at epoch 14\n",
      "ACT I. SCENE II: A state of this day be dead. I will not let the least of my son, So much is your gr\n",
      "--- EPOCH 15/50 ---\n",
      "train_batch (Avg. Loss 1.467, Accuracy 56.6): 100%|██████████| 547/547 [02:10<00:00,  4.20it/s]\n",
      "test_batch (Avg. Loss 1.400, Accuracy 57.4): 100%|██████████| 60/60 [00:05<00:00, 11.83it/s]\n",
      "*** Saved checkpoint checkpoints/rnn.pt at epoch 15\n",
      "ACT I. SCENE II: Romeo: thou mayst speak no more so long as little blood. GLOUCESTER: Then that was \n",
      "--- EPOCH 16/50 ---\n",
      "train_batch (Avg. Loss 1.462, Accuracy 56.7): 100%|██████████| 547/547 [02:10<00:00,  4.20it/s]\n",
      "test_batch (Avg. Loss 1.396, Accuracy 57.4): 100%|██████████| 60/60 [00:04<00:00, 12.11it/s]\n",
      "*** Saved checkpoint checkpoints/rnn.pt at epoch 16\n",
      "ACT I. SCENE 2. England: I will not see thee in the servant should make thee good and sound, And the\n",
      "--- EPOCH 17/50 ---\n",
      "train_batch (Avg. Loss 1.458, Accuracy 56.8): 100%|██████████| 547/547 [02:07<00:00,  4.30it/s]\n",
      "test_batch (Avg. Loss 1.393, Accuracy 57.5): 100%|██████████| 60/60 [00:04<00:00, 12.01it/s]\n",
      "*** Saved checkpoint checkpoints/rnn.pt at epoch 17\n",
      "ACT I. SCENE II: The soul of excellent country's subject, and the power to be a trust and this infer\n",
      "--- EPOCH 18/50 ---\n",
      "train_batch (Avg. Loss 1.453, Accuracy 56.9): 100%|██████████| 547/547 [02:04<00:00,  4.38it/s]\n",
      "test_batch (Avg. Loss 1.390, Accuracy 57.6): 100%|██████████| 60/60 [00:04<00:00, 12.20it/s]\n",
      "*** Saved checkpoint checkpoints/rnn.pt at epoch 18\n",
      "ACT I. SCENE II: A round stain the cause of this shame I should with a courteous love; I will not st\n",
      "--- EPOCH 19/50 ---\n",
      "train_batch (Avg. Loss 1.450, Accuracy 57.0): 100%|██████████| 547/547 [02:04<00:00,  4.40it/s]\n",
      "test_batch (Avg. Loss 1.388, Accuracy 57.6): 100%|██████████| 60/60 [00:04<00:00, 12.33it/s]\n",
      "*** Saved checkpoint checkpoints/rnn.pt at epoch 19\n",
      "ACT I. SCENE III: A paper should be thy great state and met the state of such a blood that stands be\n",
      "--- EPOCH 20/50 ---\n",
      "train_batch (Avg. Loss 1.446, Accuracy 57.1): 100%|██████████| 547/547 [02:04<00:00,  4.39it/s]\n",
      "test_batch (Avg. Loss 1.384, Accuracy 57.7): 100%|██████████| 60/60 [00:05<00:00, 11.94it/s]\n",
      "*** Saved checkpoint checkpoints/rnn.pt at epoch 20\n",
      "ACT I. SCENE II: The army and a third, and the son of nose Enter NORTHUMBERLAND: How now, my lord, t\n",
      "--- EPOCH 21/50 ---\n",
      "train_batch (Avg. Loss 1.443, Accuracy 57.2): 100%|██████████| 547/547 [02:09<00:00,  4.21it/s]\n",
      "test_batch (Avg. Loss 1.381, Accuracy 57.8): 100%|██████████| 60/60 [00:05<00:00, 11.87it/s]\n",
      "*** Saved checkpoint checkpoints/rnn.pt at epoch 21\n",
      "ACT I. SCENE II: Make thee the news. GLOUCESTER: And she is he to my heart to make thee be gone. HEN\n",
      "--- EPOCH 22/50 ---\n",
      "train_batch (Avg. Loss 1.440, Accuracy 57.2): 100%|██████████| 547/547 [02:10<00:00,  4.20it/s]\n",
      "test_batch (Avg. Loss 1.380, Accuracy 57.8): 100%|██████████| 60/60 [00:05<00:00, 11.86it/s]\n",
      "*** Saved checkpoint checkpoints/rnn.pt at epoch 22\n",
      "ACT I. SCENE I: We that the present land all but this noble lord. DUKE OF YORK: I will not speak on \n",
      "--- EPOCH 23/50 ---\n",
      "train_batch (Avg. Loss 1.437, Accuracy 57.3): 100%|██████████| 547/547 [02:09<00:00,  4.22it/s]\n",
      "test_batch (Avg. Loss 1.379, Accuracy 57.8): 100%|██████████| 60/60 [00:05<00:00, 11.90it/s]\n",
      "ACT I. SCENE II: Both that the senses were a banish'd promise and stones and words are they show, An\n",
      "--- EPOCH 24/50 ---\n",
      "train_batch (Avg. Loss 1.435, Accuracy 57.3): 100%|██████████| 547/547 [02:09<00:00,  4.22it/s]\n",
      "test_batch (Avg. Loss 1.375, Accuracy 57.9): 100%|██████████| 60/60 [00:05<00:00, 11.69it/s]\n",
      "*** Saved checkpoint checkpoints/rnn.pt at epoch 24\n",
      "ACT I. SCENE II: A woman that would be commend'd to himself and close than a royal lord: Therefore t\n",
      "--- EPOCH 25/50 ---\n",
      "train_batch (Avg. Loss 1.432, Accuracy 57.4): 100%|██████████| 547/547 [02:07<00:00,  4.28it/s]\n",
      "test_batch (Avg. Loss 1.374, Accuracy 57.9): 100%|██████████| 60/60 [00:04<00:00, 12.03it/s]\n",
      "ACT I. SCENE 2. A company to the Queen of Rome? I have told thee for his heart to steal and be not t\n",
      "--- EPOCH 26/50 ---\n",
      "train_batch (Avg. Loss 1.430, Accuracy 57.5): 100%|██████████| 547/547 [02:06<00:00,  4.31it/s]\n",
      "test_batch (Avg. Loss 1.372, Accuracy 58.0): 100%|██████████| 60/60 [00:04<00:00, 12.04it/s]\n",
      "*** Saved checkpoint checkpoints/rnn.pt at epoch 26\n",
      "ACT I. SCENE IV: A love of your love? My lord, the state of this assument, and the death of that sha\n",
      "--- EPOCH 27/50 ---\n",
      "train_batch (Avg. Loss 1.428, Accuracy 57.5): 100%|██████████| 547/547 [02:06<00:00,  4.32it/s]\n",
      "test_batch (Avg. Loss 1.370, Accuracy 58.1): 100%|██████████| 60/60 [00:04<00:00, 12.33it/s]\n",
      "*** Saved checkpoint checkpoints/rnn.pt at epoch 27\n",
      "ACT I. SCENE III: A present senseless speed that was king in the earth, And thou shalt convey me to \n",
      "--- EPOCH 28/50 ---\n",
      "train_batch (Avg. Loss 1.425, Accuracy 57.6): 100%|██████████| 547/547 [02:06<00:00,  4.33it/s]\n",
      "test_batch (Avg. Loss 1.369, Accuracy 58.1): 100%|██████████| 60/60 [00:05<00:00, 11.90it/s]\n",
      "ACT I. SCENE III: A grace of this light, I would all the house of that sense and death, And all the \n",
      "--- EPOCH 29/50 ---\n",
      "train_batch (Avg. Loss 1.423, Accuracy 57.6): 100%|██████████| 547/547 [02:06<00:00,  4.31it/s]\n",
      "test_batch (Avg. Loss 1.367, Accuracy 58.1): 100%|██████████| 60/60 [00:05<00:00, 11.93it/s]\n",
      "*** Saved checkpoint checkpoints/rnn.pt at epoch 29\n",
      "ACT I. SCENE III: There is no supposition of the power of comfort blame to be so blown to the death,\n",
      "--- EPOCH 30/50 ---\n",
      "train_batch (Avg. Loss 1.421, Accuracy 57.7): 100%|██████████| 547/547 [02:08<00:00,  4.27it/s]\n",
      "test_batch (Avg. Loss 1.366, Accuracy 58.2): 100%|██████████| 60/60 [00:05<00:00, 11.83it/s]\n",
      "*** Saved checkpoint checkpoints/rnn.pt at epoch 30\n",
      "ACT I. SCENE 2. The world entreats the commonpear in the hate, Which she is not the fortune of the c\n",
      "--- EPOCH 31/50 ---\n",
      "train_batch (Avg. Loss 1.420, Accuracy 57.7): 100%|██████████| 547/547 [02:09<00:00,  4.21it/s]\n",
      "test_batch (Avg. Loss 1.364, Accuracy 58.3): 100%|██████████| 60/60 [00:05<00:00, 11.77it/s]\n",
      "*** Saved checkpoint checkpoints/rnn.pt at epoch 31\n",
      "ACT I. SCENE II: The world will stand the land of thee, and thy blood hath no more to be drown the t\n",
      "--- EPOCH 32/50 ---\n",
      "train_batch (Avg. Loss 1.418, Accuracy 57.8): 100%|██████████| 547/547 [02:07<00:00,  4.28it/s]\n",
      "test_batch (Avg. Loss 1.363, Accuracy 58.2): 100%|██████████| 60/60 [00:04<00:00, 12.07it/s]\n",
      "ACT I. SCENE II: By the world, the gods stand, sir, will not be so? HENRY BOLINGBROKE: O, good my lo\n",
      "--- EPOCH 33/50 ---\n",
      "train_batch (Avg. Loss 1.416, Accuracy 57.8): 100%|██████████| 547/547 [02:06<00:00,  4.31it/s]\n",
      "test_batch (Avg. Loss 1.361, Accuracy 58.3): 100%|██████████| 60/60 [00:04<00:00, 12.02it/s]\n",
      "*** Saved checkpoint checkpoints/rnn.pt at epoch 33\n",
      "ACT I. SCENE II: The consul, what wouldst thou were a boy? Thou wilt be put out thee all the princes\n",
      "--- EPOCH 34/50 ---\n",
      "train_batch (Avg. Loss 1.414, Accuracy 57.8): 100%|██████████| 547/547 [02:06<00:00,  4.31it/s]\n",
      "test_batch (Avg. Loss 1.360, Accuracy 58.4): 100%|██████████| 60/60 [00:04<00:00, 12.01it/s]\n",
      "*** Saved checkpoint checkpoints/rnn.pt at epoch 34\n",
      "ACT I. SCENE I: A good nave thou swear'st thou the man that would say 'The land is strange than an a\n",
      "--- EPOCH 35/50 ---\n",
      "train_batch (Avg. Loss 1.412, Accuracy 57.9): 100%|██████████| 547/547 [02:07<00:00,  4.30it/s]\n",
      "test_batch (Avg. Loss 1.359, Accuracy 58.3): 100%|██████████| 60/60 [00:05<00:00, 11.99it/s]\n",
      "ACT I. SCENE I: The service with the world with the enemy to England, And all this war is not more t\n",
      "--- EPOCH 36/50 ---\n",
      "train_batch (Avg. Loss 1.411, Accuracy 57.9): 100%|██████████| 547/547 [02:07<00:00,  4.30it/s]\n",
      "test_batch (Avg. Loss 1.357, Accuracy 58.4): 100%|██████████| 60/60 [00:04<00:00, 12.02it/s]\n",
      "*** Saved checkpoint checkpoints/rnn.pt at epoch 36\n",
      "ACT I. SCENE I: A passion stand not to this fair and made their ears: That is no such a prince of me\n",
      "--- EPOCH 37/50 ---\n",
      "train_batch (Avg. Loss 1.410, Accuracy 57.9): 100%|██████████| 547/547 [02:07<00:00,  4.30it/s]\n",
      "test_batch (Avg. Loss 1.357, Accuracy 58.4): 100%|██████████| 60/60 [00:05<00:00, 11.98it/s]\n",
      "ACT I. SCENE: A sorrow to the common livery of the market him. And when the devil was the forest of \n",
      "--- EPOCH 38/50 ---\n",
      "train_batch (Avg. Loss 1.408, Accuracy 58.0): 100%|██████████| 547/547 [02:06<00:00,  4.31it/s]\n",
      "test_batch (Avg. Loss 1.356, Accuracy 58.4): 100%|██████████| 60/60 [00:04<00:00, 12.02it/s]\n",
      "*** Saved checkpoint checkpoints/rnn.pt at epoch 38\n",
      "ACT I. SCENE I. A street Enter CAMILLO AUFIDIUS: Why, what the little thoughts shall show me so to t\n",
      "--- EPOCH 39/50 ---\n",
      "train_batch (Avg. Loss 1.407, Accuracy 58.0): 100%|██████████| 547/547 [02:06<00:00,  4.32it/s]\n",
      "test_batch (Avg. Loss 1.355, Accuracy 58.5): 100%|██████████| 60/60 [00:04<00:00, 12.13it/s]\n",
      "*** Saved checkpoint checkpoints/rnn.pt at epoch 39\n",
      "ACT I. SCENE I: I am not so all the son, And then we will not speak to the hour of a banishment: For\n",
      "--- EPOCH 40/50 ---\n",
      "train_batch (Avg. Loss 1.405, Accuracy 58.0): 100%|██████████| 547/547 [02:08<00:00,  4.24it/s]\n",
      "test_batch (Avg. Loss 1.355, Accuracy 58.5): 100%|██████████| 60/60 [00:04<00:00, 12.02it/s]\n",
      "*** Saved checkpoint checkpoints/rnn.pt at epoch 40\n",
      "ACT I. SCENE I: Hereford, God be that thou hast not fight, Or a house of God's castle, his king, and\n",
      "--- EPOCH 41/50 ---\n",
      "train_batch (Avg. Loss 1.404, Accuracy 58.1): 100%|██████████| 547/547 [02:07<00:00,  4.30it/s]\n",
      "test_batch (Avg. Loss 1.352, Accuracy 58.6): 100%|██████████| 60/60 [00:04<00:00, 12.04it/s]\n",
      "*** Saved checkpoint checkpoints/rnn.pt at epoch 41\n",
      "ACT I. SCENE I: A body, that thou wilt be so buried to the part, The forced fortune of the morning s\n",
      "--- EPOCH 42/50 ---\n",
      "train_batch (Avg. Loss 1.403, Accuracy 58.1): 100%|██████████| 547/547 [02:06<00:00,  4.31it/s]\n",
      "test_batch (Avg. Loss 1.352, Accuracy 58.5): 100%|██████████| 60/60 [00:05<00:00, 11.99it/s]\n",
      "ACT I. SCENE I: A love is revenged in the friends Of the adder strength of the sight of love. For th\n",
      "--- EPOCH 43/50 ---\n",
      "train_batch (Avg. Loss 1.402, Accuracy 58.1): 100%|██████████| 547/547 [02:07<00:00,  4.30it/s]\n",
      "test_batch (Avg. Loss 1.351, Accuracy 58.6): 100%|██████████| 60/60 [00:04<00:00, 12.06it/s]\n",
      "*** Saved checkpoint checkpoints/rnn.pt at epoch 43\n",
      "ACT I. SCENE I: The state, where is the deed? What is thy sight? Both with a soldier, as you love a \n",
      "--- EPOCH 44/50 ---\n",
      "train_batch (Avg. Loss 1.401, Accuracy 58.2): 100%|██████████| 547/547 [02:07<00:00,  4.31it/s]\n",
      "test_batch (Avg. Loss 1.350, Accuracy 58.6): 100%|██████████| 60/60 [00:04<00:00, 12.06it/s]\n",
      "*** Saved checkpoint checkpoints/rnn.pt at epoch 44\n",
      "ACT I. SCENE II: By the humour of it is a dissentine that have to my cause That shall I upon the blo\n",
      "--- EPOCH 45/50 ---\n",
      "train_batch (Avg. Loss 1.399, Accuracy 58.2): 100%|██████████| 547/547 [02:07<00:00,  4.29it/s]\n",
      "test_batch (Avg. Loss 1.349, Accuracy 58.6): 100%|██████████| 60/60 [00:04<00:00, 12.07it/s]\n",
      "ACT I. SCENE 1: 'A pity say, sir, is this throne, that with the field and state of his mother's bone\n",
      "--- EPOCH 46/50 ---\n",
      "train_batch (Avg. Loss 1.398, Accuracy 58.2): 100%|██████████| 547/547 [02:07<00:00,  4.30it/s]\n",
      "test_batch (Avg. Loss 1.349, Accuracy 58.6): 100%|██████████| 60/60 [00:04<00:00, 12.34it/s]\n",
      "ACT I. SCENE I: A pain of man to the common of her badmen are thou found the souls of good to a man \n",
      "--- EPOCH 47/50 ---\n",
      "train_batch (Avg. Loss 1.397, Accuracy 58.3): 100%|██████████| 547/547 [02:03<00:00,  4.41it/s]\n",
      "test_batch (Avg. Loss 1.348, Accuracy 58.7): 100%|██████████| 60/60 [00:04<00:00, 12.29it/s]\n",
      "*** Saved checkpoint checkpoints/rnn.pt at epoch 47\n",
      "ACT I. SCENE I. The earth that says the man, And shall be so long as the devil which I will see thee\n",
      "--- EPOCH 48/50 ---\n",
      "train_batch (Avg. Loss 1.396, Accuracy 58.3): 100%|██████████| 547/547 [02:06<00:00,  4.31it/s]\n",
      "test_batch (Avg. Loss 1.347, Accuracy 58.7): 100%|██████████| 60/60 [00:04<00:00, 12.07it/s]\n",
      "ACT I. SCENE I: A street Enter a man my son Edward's fortunes are a body to the parties: that they d\n",
      "--- EPOCH 49/50 ---\n",
      "train_batch (Avg. Loss 1.395, Accuracy 58.3): 100%|██████████| 547/547 [02:07<00:00,  4.30it/s]\n",
      "test_batch (Avg. Loss 1.347, Accuracy 58.7): 100%|██████████| 60/60 [00:05<00:00, 11.88it/s]\n",
      "*** Saved checkpoint checkpoints/rnn.pt at epoch 49\n",
      "ACT I. SCENE I. Now, I would thou wert deserv'd her fair the pleasure of the case of all the coals a\n",
      "--- EPOCH 50/50 ---\n",
      "train_batch (Avg. Loss 1.394, Accuracy 58.3): 100%|██████████| 547/547 [02:07<00:00,  4.29it/s]\n",
      "test_batch (Avg. Loss 1.346, Accuracy 58.7): 100%|██████████| 60/60 [00:04<00:00, 12.07it/s]\n",
      "ACT I. SCENE I: Who shall be past? DUCHESS OF YORK: It is my father's case, and all the world and th\n"
     ]
    },
    {
     "data": {
      "image/png": "[encoded data removed]",
      "text/plain": [
       "<Figure size 1152x720 with 4 Axes>"
      ]
     },
     "metadata": {
      "needs_background": "light"
     },
     "output_type": "display_data"
    }
   ],
   "source": [
    "from cs236781.plot import plot_fit\n",
    "\n",
    "def post_epoch_fn(epoch, train_res, test_res, verbose):\n",
    "    # Update learning rate\n",
    "    scheduler.step(test_res.accuracy)\n",
    "    # Sample from model to show progress\n",
    "    if verbose:\n",
    "        start_seq = \"ACT I.\"\n",
    "        generated_sequence = charnn.generate_from_model(\n",
    "            model, start_seq, 100, (char_to_idx,idx_to_char), T=0.5\n",
    "        )\n",
    "        print(generated_sequence)\n",
    "\n",
    "# Train, unless final checkpoint is found\n",
    "checkpoint_file_final = f'{checkpoint_file}_final.pt'\n",
    "if os.path.isfile(checkpoint_file_final):\n",
    "    print(f'*** Loading final checkpoint file {checkpoint_file_final} instead of training')\n",
    "    saved_state = torch.load(checkpoint_file_final, map_location=device)\n",
    "    model.load_state_dict(saved_state['model_state'])\n",
    "else:\n",
    "    try:\n",
    "        # Print pre-training sampling\n",
    "        print(charnn.generate_from_model(model, \"ACT I.\", 100, (char_to_idx,idx_to_char), T=0.5))\n",
    "\n",
    "        fit_res = trainer.fit(dl_train, dl_test, num_epochs, max_batches=None,\n",
    "                              post_epoch_fn=post_epoch_fn, early_stopping=early_stopping,\n",
    "                              checkpoints=checkpoint_file, print_every=1)\n",
    "        \n",
    "        fig, axes = plot_fit(fit_res)\n",
    "    except KeyboardInterrupt as e:\n",
    "        print('\\n *** Training interrupted by user')"
   ]
  },
  {
   "cell_type": "markdown",
   "metadata": {},
   "source": [
    "### Generating a work of art\n",
    "<a id=part1_8></a>"
   ]
  },
  {
   "cell_type": "markdown",
   "metadata": {},
   "source": [
    "Armed with our fully trained model, let's generate the next Hamlet! You should experiment with modifying the sampling temperature and see what happens.\n",
    "\n",
    "The text you generate should “look” like a Shakespeare play:\n",
    "old-style English words and sentence structure, directions for the actors\n",
    "(like “Exit/Enter”), sections (Act I/Scene III) etc.\n",
    "There will be no coherent plot of course, but it should at least seem like\n",
    "a Shakespearean play when not looking too closely.\n",
    "If this is not what you see, go back, debug and/or and re-train.\n",
    "\n",
    "**TODO**: Specify the generation parameters in the `part1_generation_params()` function within the `hw3/answers.py` module."
   ]
  },
  {
   "cell_type": "code",
   "execution_count": 21,
   "metadata": {},
   "outputs": [
    {
     "name": "stdout",
     "output_type": "stream",
     "text": [
      "King Richard's son, And stand upon the world that shall be so so far as thou art a son of the world, The world is strange, and there is no more than the state of the world, The sun that shall be so better than the sea of thine and the state of the state of the state of the state of the sea, That thou wilt see the state of this and the world, That thou wilt see the state of the common soul of the sea of mine is so much as the sun that shall be so long and see the world and the sea of this fair son, And therefore be a man that should be so so far as thou art a shame to the world, And therefore make me see the world and the prince of the common soul That shall be so so far as thou art a son of the sea of mine own souls To see the state of the state of the state of the state of the state of the world, That thou art not to see thee to the common blood of the common soul That we may see the world that shall be so much as the sun that shall be so much as the state of the particular country will I see the world and the sun that hath been a strange soul That she is not a man that shall be so so far as thou art a man that I have seen thee to the state of the common soul That shall be so much as the sun and the world is the man that shall be so much as the sun and the sea of mine and the seas, That thou art a man that shall be so much as thou art a man that should be so so far and the world with the world with the world, That thou wilt see the common part of the state of the state of the common blood of this a strange state, And therefore the common soul that was a strange soul to the world that hath been so much as the sun that shall be so much as the sun and the state of the state of the state of the state of the sea of soul, That she is not a strange soul and the state of the world, And therefore make thee bear the state of the state of the state of the sea of this a strange state, And shall be so much as the sea, and there is not a man that were the sea of thine and the prince of the state of the common soul That shall be so much as the sea of thine and the sun with the state of the state of the world, That thou wilt see the state of the sea of mine own souls and state and the devil that thou wilt not see thee to the state of the common soul That should be so so far as thou wilt see the world and the sun that we may be so soon as the sea of man, That thou wilt see the state of the state of the sea of mine: The sun that shall be so so far as thou art a strange soul, That thou wilt see the state of the state of the sun and the sea of mine arms, And then the sun that shall be so much as the sea of thine and the sun that shall be so much as the sea of mine and the sea of mine own soul, That thou wilt see the streets of the state of the state, And therefore shall I see the common state of this a strange state, And therefore shall I see the streets of this a country's son, And therefore be the state of the state of the sea of mine and the sea of man, The state of the world is the more than the state of the state of the state of the common state and the state of the sea of mine and the sea of this the common soul of the world, And therefore shall I see the world and the prince of the world, That thou wilt see the common soul of this thing in the state of the world, That thou wilt see the state of the state of the state of the state of the state of the sea of this the world, The sun and the prince of the state of the sea of this and so much as the sun and the prince of the world, That thou wilt see the sea of thine and the sun that shall be so much as the sun that should be so. BUCKINGHAM: What is the matter? DUKE OF YORK: I will not see thee to the common state of this a fair and soul That thou shalt see the common soul of this a strange state, And therefore shall I see the world with the world that thou hast seen the state of the state of the state of the state of the sea of this a strange state and the state of the state, And therefore be the state of the world, the sea of man and the state of the state of the world, And therefore shall I see the common soul to see the world and the prince of the world, And therefore be a strange soul to the world, the sun and the state of the state of the world, And therefore thou art a man that was the man that shall be so much as the sea of soul, That thou wilt see the common soul of this and the state of the commons with the state of the common state and the sea of soul, That thou wilt see the common soul to the world, and there the sea of subjects, when the state of the world, That thou wilt see the world that shall be so much as the sea of mine and the state of the state of the state of the state of the state of the commons with the state of the sea of this and so much as they shall be so much as they are so long as thou art a soldier to the common soul That shall be so much as the sun that shall be so much as the sea of thine and the sea of soul, And then the soul of this and the sun that shall be so long as thou hast seen the state of the common soul That shall be so so far as thou art a soldier to the common soul That shall be so much as the sea of thine and the world is the man that hath seen the state of the state of the state of the world, That thou art not a man that should be so sorry that I have the state of the state of the state of the sea of mine and the state of the state of the state of the state of the common season of the state of the world, That thou wilt see the world that we may see thee to the court of this a strange state, And stand as the sun shall be so much as thou art a son, And say 'tis not a man that should be so so far as the state of the commons with the state of the common soul That shall be so much as the sun and the world is the sea of subjects, And therefore shall I see the fair and soul, And therefore be a man that shall be so much as the sun that should be so so long and stand and see thee to the fair and soul That she is not the streets of the common soul That shall be so much as the sun that shall be so so far as thou hast seen the field. SICINIUS: No, no, no, no, no, no, no, no, no, no, no, no, my lord, the sea of court, That she is not a man that shall be so better than the state of the world, That thou art thou a strange soul, and therefore be so much as thou hast stay'd to see thee to the prince of the state of the state of the state of the state of the common soul That shall be so much as the sun that thou art a son of the world, The world is strange to the world, and there the sea of subjects, and the sun and the prince of the sea of soul, That thou art so sound a man that shall be so much as the state of the sea of thine and the state of the world, That thou wilt see the state of the streets of the world, That she is not a state, and therefore be so much as they are so far as thou hast seen the state of the state of the common state and the state of the state of the common soul That shall be so much as the sun that shall be so much as the sea of mine: The world is so better than the sea of thine: The world is so so bold and seen the sea of thine. The sea of thine and the state of the state of the state of the sea of mine and the sea of this dead thoughts, And therefore be the state of the state of the sea, The sun that shall be so so far as thou art a son of the common soul That shall be so so far as thou art a soul to the world, That thou art so soon as the sea of soul, That we may see the state of the state of the sea of thine and the sea of thine and the state of the sight of the sea of this consul: The sun that shall be so much as the sea, and the common part of the state of the state of the state of the common soul That shall be so much as the state of the common soul That shall be so much as the sea of man, And therefore stand as thou art a strange soul to the world, And therefore shall I see the world and the prince of the state of the common state of the world, That thou wilt see the common soul to the world, and there is not a son of the common state, And therefore shall I see the state of the world is the more than the state of the common prince of the state of the sea of soul, That thou wilt see the state of the state of the state of the state of the sea of this and so much as the sea of state, That thou wilt see the state of the state of the state of the state of the sea of this the world, The common soul of the state of the sea, That thou art so sound a man that shall be so much as the sea of thine and the state of the state of the sea of this the common party of the state of the state of the state of the state of the state of the state of the sea of this a strange soul That shall be so much as thou shalt not speak to thee, And therefore be the state of the state of the sea of this the state of the common soul That shall be so far as the sea of thine and the state of the world is so long and so much as the sea of mine: The world is strange, and the state of the state of the state of the state of the common soul That shall be so much as the sea of thine and the sun that shall be so so much as thou art a man that shall be so so better than the sea of mine. BUCKINGHAM: What is the matter? DUKE OF YORK: I will not see thee to the common soul of this all the state of the sea of soul and state and the world, That thou wilt see the court of this the world, and there the sun and the state of the sea of mine: The sun and the prince of the world, the season of the state of the world, That thou wilt see the common soul of this and stand and see the world that shall be so so far as thou hast seen the state of the state of the state of the state of the streets of the world, That thou wilt see the state of the world, that thou wilt see the state of the common soul That shall be so much as the sun that shall be so much as the sea of soul, That thou wilt see the state of the way to the world that hath been so much as the sea of thine, That t\n"
     ]
    }
   ],
   "source": [
    "from hw3.answers import part1_generation_params\n",
    "\n",
    "start_seq, temperature = part1_generation_params()\n",
    "\n",
    "generated_sequence = charnn.generate_from_model(\n",
    "    model, start_seq, 10000, (char_to_idx,idx_to_char), T=temperature\n",
    ")\n",
    "\n",
    "print(generated_sequence)"
   ]
  },
  {
   "cell_type": "markdown",
   "metadata": {},
   "source": [
    "## Questions\n",
    "<a id=part1_9></a>"
   ]
  },
  {
   "cell_type": "markdown",
   "metadata": {},
   "source": [
    "**TODO** Answer the following questions. Write your answers in the appropriate variables in the module `hw3/answers.py`."
   ]
  },
  {
   "cell_type": "code",
   "execution_count": 22,
   "metadata": {},
   "outputs": [],
   "source": [
    "from cs236781.answers import display_answer\n",
    "import hw3.answers"
   ]
  },
  {
   "cell_type": "markdown",
   "metadata": {},
   "source": [
    "### Question 1\n",
    "Why do we split the corpus into sequences instead of training on the whole text?"
   ]
  },
  {
   "cell_type": "code",
   "execution_count": 23,
   "metadata": {},
   "outputs": [
    {
     "data": {
      "text/markdown": [
       "\n",
       "**Your answer:**\n",
       "\n",
       "We split the corpus into sequences instead of training instead of training on the whole text, because of hardware limitations. It is not possible to load the entire text to the GPU. We want to acheeve compute in a reasonable amount of time.\n",
       "\n"
      ],
      "text/plain": [
       "<IPython.core.display.Markdown object>"
      ]
     },
     "metadata": {},
     "output_type": "display_data"
    }
   ],
   "source": [
    "display_answer(hw3.answers.part1_q1)"
   ]
  },
  {
   "cell_type": "markdown",
   "metadata": {},
   "source": [
    "### Question 2\n",
    "How is it possible that the generated text clearly shows memory longer than the sequence length?"
   ]
  },
  {
   "cell_type": "code",
   "execution_count": 24,
   "metadata": {},
   "outputs": [
    {
     "data": {
      "text/markdown": [
       "\n",
       "**Your answer:**\n",
       "\n",
       "It possible that the generated text clearly shows memory longer than the sequence length because every batch of characters might be affected by the hidden layers across multiple batches. Therefore, we don't really have control over the length of the generated text.\n",
       "\n",
       "\n"
      ],
      "text/plain": [
       "<IPython.core.display.Markdown object>"
      ]
     },
     "metadata": {},
     "output_type": "display_data"
    }
   ],
   "source": [
    "display_answer(hw3.answers.part1_q2)"
   ]
  },
  {
   "cell_type": "markdown",
   "metadata": {},
   "source": [
    "### Question 3\n",
    "Why are we not shuffling the order of batches when training?"
   ]
  },
  {
   "cell_type": "code",
   "execution_count": 25,
   "metadata": {},
   "outputs": [
    {
     "data": {
      "text/markdown": [
       "\n",
       "**Your answer:**\n",
       "\n",
       "We don't shuffle the order of batches when training because there is a sense in the order of a text in-order to tell a story. The module remembers pass inputs and use it to try and produce new data. Shuffeling when training will ruin the order of story and memory of the module will be without true meaning.\n",
       "\n",
       "\n"
      ],
      "text/plain": [
       "<IPython.core.display.Markdown object>"
      ]
     },
     "metadata": {},
     "output_type": "display_data"
    }
   ],
   "source": [
    "display_answer(hw3.answers.part1_q3)"
   ]
  },
  {
   "cell_type": "markdown",
   "metadata": {},
   "source": [
    "### Question 4\n",
    "1. Why do we lower the temperature for sampling (compared to the default of $1.0$)?\n",
    "2. What happens when the temperature is very high and why?\n",
    "3. What happens when the temperature is very low and why?"
   ]
  },
  {
   "cell_type": "code",
   "execution_count": 26,
   "metadata": {
    "tags": []
   },
   "outputs": [
    {
     "data": {
      "text/markdown": [
       "\n",
       "**Your answer:**\n",
       "\n",
       "1. We lower the temperature for sampling because when starting to train, the module should be filled with data, therfore default is one. But after a while when temprature gets lower, the module will switch less data. Therefore, older things from the text will be remembered.\n",
       "2. If the temprature is very high, the module will frequently switch the data. So it won't remember old data, this will harm the important connection between different parts of the text.\n",
       "3. If the temprature is very low, it will be hard to update memory, in that case all new parts will be according to old text and not any of the new text.\n",
       "\n",
       "\n"
      ],
      "text/plain": [
       "<IPython.core.display.Markdown object>"
      ]
     },
     "metadata": {},
     "output_type": "display_data"
    }
   ],
   "source": [
    "display_answer(hw3.answers.part1_q4)"
   ]
  }
 ],
 "metadata": {
  "kernelspec": {
   "display_name": "Python 3",
   "language": "python",
   "name": "python3"
  },
  "language_info": {
   "codemirror_mode": {
    "name": "ipython",
    "version": 3
   },
   "file_extension": ".py",
   "mimetype": "text/x-python",
   "name": "python",
   "nbconvert_exporter": "python",
   "pygments_lexer": "ipython3",
   "version": "3.8.6"
  }
 },
 "nbformat": 4,
 "nbformat_minor": 4
}
