{
 "cells": [
  {
   "cell_type": "markdown",
   "metadata": {},
   "source": [
    "## Part 1: Working with data in `PyTorch`\n",
    "<a id=part1></a>"
   ]
  },
  {
   "cell_type": "markdown",
   "metadata": {},
   "source": [
    "In this part, we'll learn about the `Dataset` and `DataLoader` classes which are part of `PyTorch`'s `torch.util.data` package.\n",
    "These are highly useful abstractions that can greatly reduce the amount of boilerplate code you need to write in order to work with data.\n",
    "Knowing how to use these classes properly will prove useful in the coming assignments and course project."
   ]
  },
  {
   "cell_type": "code",
   "execution_count": 8,
   "metadata": {
    "tags": []
   },
   "outputs": [
    {
     "name": "stdout",
     "output_type": "stream",
     "text": [
      "The autoreload extension is already loaded. To reload it, use:\n",
      "  %reload_ext autoreload\n"
     ]
    }
   ],
   "source": [
    "import torch\n",
    "import torchvision\n",
    "import numpy as np\n",
    "import matplotlib.pyplot as plt\n",
    "import unittest\n",
    "\n",
    "%matplotlib inline\n",
    "%load_ext autoreload\n",
    "%autoreload 2\n",
    "\n",
    "plt.rcParams.update({'font.size': 12})\n",
    "torch.random.manual_seed(42)\n",
    "test = unittest.TestCase()"
   ]
  },
  {
   "cell_type": "markdown",
   "metadata": {},
   "source": [
    "### Datasets\n",
    "<a id=part1_1></a>"
   ]
  },
  {
   "cell_type": "markdown",
   "metadata": {},
   "source": [
    "The `Dataset` class is an abstraction over a sequence of python objects,\n",
    "each representing a sample (with or without a label). it's main purpose is\n",
    "to load a single (possibly labeled) sample from some soure (disk, web, etc) into memory,\n",
    "and transform it into a usuable representation (e.g. image to tensor).\n",
    "\n",
    "The `Dataset` abstracts away exactly when the data is loaded into memory: It can be on\n",
    "demand when each sample is accessed, all in advance or some combination using e.g. caching.\n",
    "This is implementation-specific.\n",
    "\n",
    "As a warm up, lets create a demonstration `Dataset` that returns noise images. It should:\n",
    "- Return tensors of shape `(C, W, H)` containing random contents.\n",
    "- Label each returned tensor with a class label, an integer between `0` and `num_classes-1`.\n",
    "- Initialize each returned tensor with a uniform distribution on `[0, 255]`.\n",
    "- Return a total of `num_samples` labeled images.\n",
    "- The same image should be returned every time the dataset is accessed as the same index."
   ]
  },
  {
   "cell_type": "markdown",
   "metadata": {},
   "source": [
    "First, let's implement a simple function to generate a labelled random image.\n",
    "\n",
    "**TODO** Implement the `random_labelled_image` function in the `hw1/datasets.py` module.\n",
    "Use the code below to test your implementation."
   ]
  },
  {
   "cell_type": "code",
   "execution_count": 27,
   "metadata": {
    "tags": []
   },
   "outputs": [
    {
     "data": {
      "image/png": "[encoded data removed]",
      "text/plain": [
       "<Figure size 576x576 with 2 Axes>"
      ]
     },
     "metadata": {},
     "output_type": "display_data"
    }
   ],
   "source": [
    "import hw1.datasets as hw1datasets\n",
    "import cs236781.plot as plot\n",
    "\n",
    "image_shape = (3, 32, 64)\n",
    "num_classes = 3\n",
    "low, high = 0, 10\n",
    "\n",
    "# Generate some random images and check values\n",
    "X_ = None\n",
    "for i in range(100):\n",
    "    X, y = hw1datasets.random_labelled_image(image_shape, num_classes, low, high)\n",
    "    test.assertEqual(X.shape, image_shape)\n",
    "    test.assertIsInstance(y, int)\n",
    "    test.assertTrue(0<= y < num_classes)\n",
    "    test.assertTrue(torch.all((X >= low) & (X < high)))\n",
    "    if X_ is not None:\n",
    "        test.assertFalse(torch.all(X == X_))\n",
    "    X_ = X\n",
    "    \n",
    "plot.tensors_as_images([X, X_]);"
   ]
  },
  {
   "cell_type": "markdown",
   "metadata": {},
   "source": [
    "In many cases we'll need to consistently get repeatable results even though we're using pseudo-random number generators (PRNGs).\n",
    "The way to do this is to provide a seed to the generator.\n",
    "Given the same seed, a PRNG will always generate the same sequence of numbers.\n",
    "\n",
    "Here, we need a way to generate the same random image when accessing our dataset at the same index (e.g. to simulate a real set of images).\n",
    "\n",
    "**TODO** Implement the `torch_temporary_seed` function in the `hw1/datasets.py` module.\n",
    "Use the code below to test your implementation."
   ]
  },
  {
   "cell_type": "code",
   "execution_count": 31,
   "metadata": {
    "tags": []
   },
   "outputs": [],
   "source": [
    "seeds = [42, 24]\n",
    "torch.random.manual_seed(seeds[0])\n",
    "\n",
    "# Before the context, the first seed affects the output\n",
    "data_pre_context = torch.randn(100,)\n",
    "\n",
    "with hw1datasets.torch_temporary_seed(seeds[1]):\n",
    "    # Within this context, the second seed is in effect\n",
    "    data_in_context = torch.randn(100,)\n",
    "    \n",
    "# After the context, the random state should be restored\n",
    "data_post_context = torch.randn(100,)\n",
    "data_around_context = torch.cat([data_pre_context, data_post_context])\n",
    "\n",
    "# Use first seed, generate data in the same way but without changing context in the middle\n",
    "torch.random.manual_seed(seeds[0])\n",
    "data_no_context = torch.cat([torch.randn(100,), torch.randn(100,)])\n",
    "\n",
    "# Identical results show that the context didn't affect external random state\n",
    "test.assertTrue(torch.allclose(data_no_context, data_around_context))\n",
    "\n",
    "# The data generated in the context should match what we would generate with the second seed\n",
    "torch.random.manual_seed(seeds[1])\n",
    "test.assertTrue(torch.allclose(data_in_context, torch.randn(100,)))"
   ]
  },
  {
   "cell_type": "markdown",
   "metadata": {},
   "source": [
    "Now we can implement the dataset as required.\n",
    "\n",
    "**TODO** Implement the `RandomImageDataset` class in the `hw1/datasets.py` module.\n",
    "Use the code below to test your implementation."
   ]
  },
  {
   "cell_type": "code",
   "execution_count": null,
   "metadata": {
    "execution": {
     "iopub.execute_input": "2021-04-10T20:05:52.120923Z",
     "iopub.status.busy": "2021-04-10T20:05:52.120330Z",
     "iopub.status.idle": "2021-04-10T20:05:52.954820Z",
     "shell.execute_reply": "2021-04-10T20:05:52.955453Z"
    }
   },
   "outputs": [],
   "source": [
    "# Test RandomImageDataset\n",
    "\n",
    "# Create the dataset\n",
    "num_samples = 500\n",
    "num_classes = 10\n",
    "image_size = (3, 32, 32)\n",
    "ds = hw1datasets.RandomImageDataset(num_samples, num_classes, *image_size)\n",
    "\n",
    "# You can load individual items from the dataset by indexing\n",
    "img0, cls0 = ds[139]\n",
    "\n",
    "# Plot first N images from the dataset with a helper function\n",
    "fig, axes = plot.dataset_first_n(ds, 9, show_classes=True, nrows=3)\n",
    "\n",
    "# The same image should be returned every time the same index is accessed\n",
    "for i in range(num_samples):\n",
    "    X, y = ds[i]\n",
    "    X_, y_ = ds[i]\n",
    "    test.assertEqual(X.shape, image_size)\n",
    "    test.assertIsInstance(y, int)\n",
    "    test.assertEqual(y, y_)\n",
    "    test.assertTrue(torch.all(X==X_))\n",
    "    \n",
    "# Should raise if out of range\n",
    "for i in range(num_samples, num_samples+10):\n",
    "    with test.assertRaises(ValueError):\n",
    "        ds[i]"
   ]
  },
  {
   "cell_type": "markdown",
   "metadata": {},
   "source": [
    "This simple dataset is a useful abstraction when we know in advance the number of samples in our dataset and can access them by indexing. However, in many cases we simply cannot know about all data in advance. For example, perhaps new data is generated in real time.\n",
    "\n",
    "To deal with these cases, we can use a different type of abstraction: an `IterableDataset` which provides an interface only to iterate over samples, but not to index them directly.\n",
    "Let's implement such a dataset which will allow us to iterate over an infinite stream of randomly-generated images."
   ]
  },
  {
   "cell_type": "code",
   "execution_count": null,
   "metadata": {
    "execution": {
     "iopub.execute_input": "2021-04-10T20:05:52.960431Z",
     "iopub.status.busy": "2021-04-10T20:05:52.959908Z",
     "iopub.status.idle": "2021-04-10T20:05:53.832725Z",
     "shell.execute_reply": "2021-04-10T20:05:53.833357Z"
    }
   },
   "outputs": [],
   "source": [
    "ds = hw1datasets.ImageStreamDataset(num_classes, *image_size)\n",
    "\n",
    "# This dataset can't be indexed\n",
    "with test.assertRaises(NotImplementedError):\n",
    "    ds[0]\n",
    "    \n",
    "# There is no length\n",
    "with test.assertRaises(TypeError):\n",
    "    len(ds)\n",
    "    \n",
    "# Arbitrarily stop somewhere\n",
    "stop = torch.randint(2**11, 2**16, (1,)).item()\n",
    "    \n",
    "# We can iterate over it, indefinitely\n",
    "for i, (X, y) in enumerate(ds):\n",
    "    test.assertEqual(X.shape, image_size)\n",
    "    test.assertIsInstance(y, int)\n",
    "    \n",
    "    if i > stop:\n",
    "        break\n",
    "        \n",
    "print(f'Generated {i} images')\n",
    "test.assertGreater(i, stop)"
   ]
  },
  {
   "cell_type": "markdown",
   "metadata": {},
   "source": [
    "### Built-in Datasets and Transforms\n",
    "<a id=part1_2></a>"
   ]
  },
  {
   "cell_type": "markdown",
   "metadata": {},
   "source": [
    "Now that we've created a simple `Dataset` to see how they work, we'll load one of `pytorch`'s built-in datasets: CIFAR-10. This is a famous dataset consisting of 60,000 small `32x32` color images classified into 10 classes. You can read more about it [here](https://www.cs.toronto.edu/~kriz/cifar.html).\n",
    "\n",
    "The `torchvision` package has built-in `Dataset` classes that can download the data to a local folder,\n",
    "load it, transform it using arbitrary transform functions and iterate over the resulting samples.\n",
    "\n",
    "Run the following code block to download and create a CIFAR-10 `Dataset`. It won't be downloaded again if already present."
   ]
  },
  {
   "cell_type": "markdown",
   "metadata": {},
   "source": [
    "Run the following block to download CIFAR-10 and plot some random images from it."
   ]
  },
  {
   "cell_type": "code",
   "execution_count": null,
   "metadata": {
    "execution": {
     "iopub.execute_input": "2021-04-10T20:05:53.838038Z",
     "iopub.status.busy": "2021-04-10T20:05:53.837494Z",
     "iopub.status.idle": "2021-04-10T20:05:59.214946Z",
     "shell.execute_reply": "2021-04-10T20:05:59.215463Z"
    }
   },
   "outputs": [],
   "source": [
    "import os\n",
    "import torchvision\n",
    "import torchvision.transforms as tvtf\n",
    "\n",
    "cfar10_labels = ('plane', 'car', 'bird', 'cat', 'deer', 'dog', 'frog', 'horse', 'ship', 'truck')\n",
    "data_root = os.path.expanduser('~/.pytorch-datasets')\n",
    "\n",
    "cifar10_train_ds = torchvision.datasets.CIFAR10(\n",
    "    root=data_root, download=True, train=True,\n",
    "    transform=tvtf.ToTensor()\n",
    ")\n",
    "\n",
    "print('Number of samples:', len(cifar10_train_ds))\n",
    "\n",
    "# Plot them with a helper function\n",
    "fig, axes = plot.dataset_first_n(cifar10_train_ds, 64,\n",
    "                                 show_classes=True, class_labels=cfar10_labels,\n",
    "                                 nrows=8, hspace=0.5)"
   ]
  },
  {
   "cell_type": "markdown",
   "metadata": {},
   "source": [
    "Now that we've loaded the entire CIFAR-10 dataset, we would like to work with a smaller subset\n",
    "from it to reduce runtime of the code in this notebook.\n",
    "A simple way to achieve this with `Datasets` is to wrap a `Dataset` in another `Dataset` that does this for us. This will make it easy to use our subset with `DataLoader`s as you will see later."
   ]
  },
  {
   "cell_type": "markdown",
   "metadata": {},
   "source": [
    "**TODO** Complete the implementation of `SubsetDataset` in `hw1/datasets.py` and use the following code block to test."
   ]
  },
  {
   "cell_type": "code",
   "execution_count": null,
   "metadata": {
    "execution": {
     "iopub.execute_input": "2021-04-10T20:05:59.219400Z",
     "iopub.status.busy": "2021-04-10T20:05:59.218914Z",
     "iopub.status.idle": "2021-04-10T20:05:59.241165Z",
     "shell.execute_reply": "2021-04-10T20:05:59.241723Z"
    }
   },
   "outputs": [],
   "source": [
    "subset_len = 5000\n",
    "subset_offset = 1234\n",
    "cifar10_train_subset_ds = hw1datasets.SubsetDataset(cifar10_train_ds, subset_len, subset_offset)\n",
    "\n",
    "dataset_x, dataset_y  = cifar10_train_ds[subset_offset + 10]\n",
    "subset_x, subset_y  = cifar10_train_subset_ds[10]\n",
    "\n",
    "# Tests\n",
    "test.assertEqual(len(cifar10_train_subset_ds), subset_len)\n",
    "test.assertTrue(torch.all(dataset_x == subset_x))\n",
    "test.assertEqual(dataset_y, subset_y)\n",
    "with test.assertRaises(IndexError, msg=\"Out of bounds index should raise IndexError\"):\n",
    "    tmp = cifar10_train_subset_ds[subset_len]"
   ]
  },
  {
   "cell_type": "markdown",
   "metadata": {},
   "source": [
    "Notice that when we initialized the `Dataset` instance for CIFAR-10, we provided a `transform` parameter.\n",
    "This is a way to specify an arbitrary transformation that should be run on each sample prior to returning it from the dataset.\n",
    "\n",
    "In the above, we used the `ToTensor()` transformation from `torchvision.transforms` to convert the\n",
    "images from a PIL (Python Imaging Library) image object which has a shape of `32x32x3` and values in range \\[0, 255\\] into a pytorch `Tensor` of shape `3x32x32` and values in range \\[0, 1\\].\n",
    "\n",
    "To demonstrate the use of transforms, we'll implement two custom transforms which invert the colors and flip the images around the horizontal axis.\n",
    "\n",
    "**TODO** Complete the `InvertColors` and `FlipUpDown` classes in the `hw1/transforms.py` module."
   ]
  },
  {
   "cell_type": "code",
   "execution_count": null,
   "metadata": {
    "execution": {
     "iopub.execute_input": "2021-04-10T20:05:59.245941Z",
     "iopub.status.busy": "2021-04-10T20:05:59.245435Z",
     "iopub.status.idle": "2021-04-10T20:06:09.207785Z",
     "shell.execute_reply": "2021-04-10T20:06:09.208294Z"
    }
   },
   "outputs": [],
   "source": [
    "import hw1.transforms as hw1transforms\n",
    "\n",
    "cifar10_inverted_ds = torchvision.datasets.CIFAR10(\n",
    "    root=data_root, download=True, train=True,\n",
    "    transform=tvtf.Compose([ # Compose allows us to chain multiple transforms in a sequence\n",
    "        tvtf.ToTensor(), # Convert PIL image to pytorch Tensor (C,H,W) in range [0,1]\n",
    "        hw1transforms.InvertColors(),\n",
    "        hw1transforms.FlipUpDown(),\n",
    "    ])\n",
    ")\n",
    "\n",
    "fig, axes = plot.dataset_first_n(cifar10_inverted_ds, 64,\n",
    "                                 show_classes=True, class_labels=cfar10_labels,\n",
    "                                 nrows=8, hspace=0.5)\n",
    "\n",
    "test.assertTrue(torch.allclose(cifar10_train_ds[0][0], torch.flip(1.-cifar10_inverted_ds[0][0], [1])),\n",
    "               \"Wrong custom transform\")"
   ]
  },
  {
   "cell_type": "markdown",
   "metadata": {},
   "source": [
    "### `DataLoader`s and `Sampler`s\n",
    "<a id=part1_3></a>"
   ]
  },
  {
   "cell_type": "markdown",
   "metadata": {},
   "source": [
    "We have seen that a `Dataset` is simply an iterable allowing us to iterate over samples and posssible to also access them by index.\n",
    "Simple to implement, but not very powerful.\n",
    "The real benefit is when combining them with `DataLoader`.\n",
    "A `DataLoader` samples a batch of samples from the dataset according to logic defined by a `Sampler` object.\n",
    "The sampler decides how to partition the dataset into batches of `N` samples.\n",
    "The `DataLoader` additionally handles loading samples in parallel to speed up creation of a batch.\n",
    "\n",
    "A major motivation here is memory usage. When combining a `DataLoader` with a `Dataset` we can easily\n",
    "control memory constraints by simply setting the batch size.\n",
    "This is important since large datasets (e.g. ImageNet) do not fit in memory of most machines.\n",
    "Since a `Dataset` can lazily load samples from disk on access,\n",
    "and the `DataLoader` can sample random samples from it in parallel, we are provided with a simple\n",
    "yet high-performance mechanism to iterate over random batches from our dataset without needing to\n",
    "hold all of it in memory.\n",
    "\n",
    "Let's create a basic `DataLoader` for our CIFAR-10 dataset.\n",
    "Run the follwing code block multiple times and observe that different samples are shown each time in the first few batches."
   ]
  },
  {
   "cell_type": "code",
   "execution_count": null,
   "metadata": {
    "execution": {
     "iopub.execute_input": "2021-04-10T20:06:09.212341Z",
     "iopub.status.busy": "2021-04-10T20:06:09.211853Z",
     "iopub.status.idle": "2021-04-10T20:06:24.740340Z",
     "shell.execute_reply": "2021-04-10T20:06:24.740837Z"
    }
   },
   "outputs": [],
   "source": [
    "# Create a simple DataLoader that partitions the data into batches\n",
    "# of size N=8 in random order, using two background proceses\n",
    "cifar10_train_dl = torch.utils.data.DataLoader(\n",
    "    cifar10_train_ds, batch_size=8, shuffle=True, num_workers=2\n",
    ")\n",
    "\n",
    "# Iterate over batches sampled with our DataLoader\n",
    "num_batches_to_show = 5\n",
    "for idx, (images, classes) in enumerate(cifar10_train_dl):\n",
    "    # The DataLoader returns a tuple of:\n",
    "    # images: Tensor of size NxCxWxH\n",
    "    # classes: Tensor of size N\n",
    "    fig, axes = plot.tensors_as_images(images, figsize=(8, 1))\n",
    "    fig.suptitle(f'Batch #{idx+1}:', x=0, y=0.6)\n",
    "    if idx >= num_batches_to_show - 1:\n",
    "        break"
   ]
  },
  {
   "cell_type": "markdown",
   "metadata": {},
   "source": [
    "Here, we specified `shuffle=True` to the `DataLoader`. This automatically created a `Sampler` which just returns indices from the `DataSet` in a random order.\n",
    "\n",
    "To better control the content of the batches, we can create our own custom sampler.\n",
    "Imagine we want each batch to contain one sample from the beginning of the dataset and\n",
    "another from the end. If we have `N` samples, we would like to get the following sequence of indices: \\[0, N-1, 1, N-2, 2, N-3, ...\\] and then use a`batch_size` of 2.\n",
    "\n",
    "**TODO** Implement the `FirstLastSampler` class in the `hw1/dataloaders.py` module."
   ]
  },
  {
   "cell_type": "code",
   "execution_count": null,
   "metadata": {
    "execution": {
     "iopub.execute_input": "2021-04-10T20:06:24.745872Z",
     "iopub.status.busy": "2021-04-10T20:06:24.745397Z",
     "iopub.status.idle": "2021-04-10T20:06:24.941102Z",
     "shell.execute_reply": "2021-04-10T20:06:24.941444Z"
    }
   },
   "outputs": [],
   "source": [
    "import hw1.dataloaders as hw1dataloaders\n",
    "\n",
    "# Test sampler with odd number of elements\n",
    "sampler = hw1dataloaders.FirstLastSampler(list(range(5)))\n",
    "test.assertEqual(list(sampler), [0,4, 1,3, 2,])\n",
    "\n",
    "# Test sampler with evennumber of elements\n",
    "sampler = hw1dataloaders.FirstLastSampler(list(range(6)))\n",
    "test.assertEqual(list(sampler), [0,5, 1,4, 2,3])\n",
    "\n",
    "\n",
    "# Create a DataLoader that partitions the data into batches\n",
    "# of size N=2 in an order determined by our custom sampler\n",
    "cifar10_train_dl = torch.utils.data.DataLoader(\n",
    "    cifar10_train_ds, batch_size=2, num_workers=0,\n",
    "    sampler=hw1dataloaders.FirstLastSampler(cifar10_train_ds),\n",
    ")\n",
    "\n",
    "# Iterate over batches sampled with our DataLoader\n",
    "num_batches_to_show = 3\n",
    "for idx, (images, classes) in enumerate(cifar10_train_dl):\n",
    "    fig, axes = plot.tensors_as_images(images, figsize=(8, 1))\n",
    "    fig.suptitle(f'Batch #{idx+1}:', x=0, y=0.6)\n",
    "    if idx >= num_batches_to_show - 1:\n",
    "        break"
   ]
  },
  {
   "cell_type": "markdown",
   "metadata": {},
   "source": [
    "### Training, Validation and Test Sets\n",
    "<a id=part1_4></a>"
   ]
  },
  {
   "cell_type": "markdown",
   "metadata": {},
   "source": [
    "Now that we know about `DataLoaders` we can use them to do something useful: split a training dataset into **Training and Validation** sets.\n",
    "\n",
    "A common issue in machine learning models is abundance of hyperparameters that must be selected prior to training the model on data. These hyperparameters may be part of the model itself or part of the training process. \n",
    "We would like to determine which hyperparameter selection can best fit the training data, and, more importantly, can be able to generalize to unseen data.\n",
    "\n",
    "A prevalent approach is therefore to split the training dataset into two parts:\n",
    "One for actual training, i.e. tuning model parameters e.g. weights in the case of neural nets,\n",
    "and another for validation, i.e. comparing one model or set of hyperparameters to another.\n",
    "After the best model is selected (by seeking the minimal validation error), it can be retrained with the entire training set.\n",
    "\n",
    "![img](https://cdn-images-1.medium.com/max/1600/1*Nv2NNALuokZEcV6hYEHdGA.png)\n",
    "\n",
    "**TODO** Implement the function `create_train_validation_loaders` in the `hw1/dataloaders.py` module.\n",
    "Use the following code block to check your implementation."
   ]
  },
  {
   "cell_type": "code",
   "execution_count": null,
   "metadata": {
    "execution": {
     "iopub.execute_input": "2021-04-10T20:06:24.945978Z",
     "iopub.status.busy": "2021-04-10T20:06:24.945482Z",
     "iopub.status.idle": "2021-04-10T20:06:24.980914Z",
     "shell.execute_reply": "2021-04-10T20:06:24.981419Z"
    }
   },
   "outputs": [],
   "source": [
    "# Testing the train/validation split dataloaders\n",
    "import hw1.dataloaders as hw1dataloaders\n",
    "\n",
    "validation_ratio = 0.2\n",
    "dl_train, dl_valid = hw1dataloaders.create_train_validation_loaders(cifar10_train_ds, validation_ratio)\n",
    "\n",
    "train_idx = set(dl_train.sampler.indices)\n",
    "valid_idx = set(dl_valid.sampler.indices)\n",
    "train_size = len(train_idx)\n",
    "valid_size = len(valid_idx)\n",
    "print('Training set size: ', train_size)\n",
    "print('Validation set size: ', valid_size)\n",
    "\n",
    "# Tests\n",
    "test.assertEqual(train_size+valid_size, len(cifar10_train_ds), \"Incorrect total number of samples\")\n",
    "test.assertEqual(valid_size, validation_ratio * (train_size + valid_size), \"Incorrect ratio\")\n",
    "test.assertTrue(train_idx.isdisjoint(valid_idx), \"Train and validation sets are not disjoint\")"
   ]
  },
  {
   "cell_type": "markdown",
   "metadata": {},
   "source": [
    "### Questions\n",
    "\n",
    "**TODO** Answer the following questions. Write your answers in the appropriate variables in the module `hw1/answers.py`."
   ]
  },
  {
   "cell_type": "code",
   "execution_count": null,
   "metadata": {
    "execution": {
     "iopub.execute_input": "2021-04-10T20:06:24.984241Z",
     "iopub.status.busy": "2021-04-10T20:06:24.983753Z",
     "iopub.status.idle": "2021-04-10T20:06:25.015345Z",
     "shell.execute_reply": "2021-04-10T20:06:25.016068Z"
    }
   },
   "outputs": [],
   "source": [
    "from cs236781.answers import display_answer\n",
    "import hw1.answers"
   ]
  },
  {
   "cell_type": "markdown",
   "metadata": {},
   "source": [
    "#### Question 1\n",
    "\n",
    "Determine whether each of the following statements is **true or false**, and explain why in detail:\n",
    "\n",
    "1. The test set allows us to estimate our in-sample error.\n",
    "2. Any split of the data into two disjoint subsets would constitute an equally useful train-test split.\n",
    "3. The test-set should not be used during cross-validation.\n",
    "4. After performing cross-validation, we use the validation-set performance of each fold as a proxy for the model's generalization error."
   ]
  },
  {
   "cell_type": "code",
   "execution_count": null,
   "metadata": {
    "execution": {
     "iopub.execute_input": "2021-04-10T20:06:25.019989Z",
     "iopub.status.busy": "2021-04-10T20:06:25.019414Z",
     "iopub.status.idle": "2021-04-10T20:06:25.042212Z",
     "shell.execute_reply": "2021-04-10T20:06:25.042721Z"
    }
   },
   "outputs": [],
   "source": [
    "display_answer(hw1.answers.part1_q1)"
   ]
  },
  {
   "cell_type": "markdown",
   "metadata": {},
   "source": [
    "#### Question 2\n",
    "\n",
    "Your friend has trained a simple linear regression model, e.g. $\\hat{y}=\\vectr{w}\\vec{x}+b$, with some training data. He then evaluated it on a disjoint test-set and concluded that the model has over-fit the training set and therefore decided to add a regularization term $\\lambda \\norm{\\vec{w}}^w$ to the loss, where $\\lambda$ is a hyper parameter.\n",
    "In order to select the value of $\\lambda$, your friend re-trained the model on his training set with different values of $\\lambda$ and then chose the value which produced the best results on the test set.\n",
    "\n",
    "Is your friend's approach justified? Explain why or why not."
   ]
  },
  {
   "cell_type": "code",
   "execution_count": null,
   "metadata": {
    "execution": {
     "iopub.execute_input": "2021-04-10T20:06:25.045710Z",
     "iopub.status.busy": "2021-04-10T20:06:25.045240Z",
     "iopub.status.idle": "2021-04-10T20:06:25.066492Z",
     "shell.execute_reply": "2021-04-10T20:06:25.067054Z"
    }
   },
   "outputs": [],
   "source": [
    "display_answer(hw1.answers.part1_q2)"
   ]
  }
 ],
 "metadata": {
  "kernelspec": {
   "display_name": "Python 3",
   "language": "python",
   "name": "python3"
  },
  "language_info": {
   "codemirror_mode": {
    "name": "ipython",
    "version": 3
   },
   "file_extension": ".py",
   "mimetype": "text/x-python",
   "name": "python",
   "nbconvert_exporter": "python",
   "pygments_lexer": "ipython3",
   "version": "3.8.6"
  },
  "toc-autonumbering": false,
  "toc-showcode": false,
  "toc-showmarkdowntxt": false,
  "toc-showtags": false
 },
 "nbformat": 4,
 "nbformat_minor": 4
}
